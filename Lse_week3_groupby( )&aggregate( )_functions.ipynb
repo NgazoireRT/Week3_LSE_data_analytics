{
 "cells": [
  {
   "cell_type": "markdown",
   "id": "54170f61",
   "metadata": {},
   "source": [
    "# 3.1.6 - Introduction to groupby( )\n"
   ]
  },
  {
   "cell_type": "code",
   "execution_count": 2,
   "id": "cbda3d8f",
   "metadata": {},
   "outputs": [],
   "source": [
    "# Using the split-apply into action. \n",
    "\n",
    "import pandas as pd\n",
    "import numpy as np"
   ]
  },
  {
   "cell_type": "code",
   "execution_count": 3,
   "id": "0ac2c623",
   "metadata": {},
   "outputs": [
    {
     "name": "stdout",
     "output_type": "stream",
     "text": [
      "(145, 5)\n",
      "(126, 5)\n",
      "(185, 5)\n",
      "(219, 5)\n"
     ]
    }
   ],
   "source": [
    "# Apply the split-apply-combine method\n",
    "\n",
    "classlist_a = pd.read_csv('classlist_a.csv')\n",
    "classlist_b = pd.read_csv('classlist_b.csv')\n",
    "classlist_c = pd.read_csv('classlist_c.csv')\n",
    "classlist_d = pd.read_csv('classlist_d.csv')\n",
    "\n",
    "print(classlist_a.shape)\n",
    "print(classlist_b.shape)\n",
    "print(classlist_c.shape)\n",
    "print(classlist_d.shape)"
   ]
  },
  {
   "cell_type": "markdown",
   "id": "49f483d9",
   "metadata": {},
   "source": [
    "# Combine the tables using concat() function"
   ]
  },
  {
   "cell_type": "code",
   "execution_count": 4,
   "id": "0ba723e1",
   "metadata": {},
   "outputs": [
    {
     "data": {
      "text/plain": [
       "(675, 5)"
      ]
     },
     "execution_count": 4,
     "metadata": {},
     "output_type": "execute_result"
    }
   ],
   "source": [
    "classlist_final = pd.concat([classlist_a, classlist_b, classlist_c, classlist_d])\n",
    "\n",
    "classlist_final.shape"
   ]
  },
  {
   "cell_type": "markdown",
   "id": "7a9ad6fc",
   "metadata": {},
   "source": [
    "# Creating the 3 groups based on surname & final mark"
   ]
  },
  {
   "cell_type": "code",
   "execution_count": 6,
   "id": "90027e9a",
   "metadata": {},
   "outputs": [
    {
     "data": {
      "text/plain": [
       "<pandas.core.groupby.generic.DataFrameGroupBy object at 0x7fa93a090490>"
      ]
     },
     "execution_count": 6,
     "metadata": {},
     "output_type": "execute_result"
    }
   ],
   "source": [
    "# group by surname \n",
    "group_surname = classlist_final.groupby('Surname')\n",
    "\n",
    "group_surname"
   ]
  },
  {
   "cell_type": "code",
   "execution_count": 7,
   "id": "85623762",
   "metadata": {},
   "outputs": [
    {
     "data": {
      "text/plain": [
       "<pandas.core.groupby.generic.DataFrameGroupBy object at 0x7fa93a0919f0>"
      ]
     },
     "execution_count": 7,
     "metadata": {},
     "output_type": "execute_result"
    }
   ],
   "source": [
    "# group by final marks\n",
    "group_marks = classlist_final.groupby('Final mark')\n",
    "\n",
    "group_marks"
   ]
  },
  {
   "cell_type": "code",
   "execution_count": 8,
   "id": "e8c77e93",
   "metadata": {},
   "outputs": [
    {
     "data": {
      "text/plain": [
       "<pandas.core.groupby.generic.DataFrameGroupBy object at 0x7fa93a092050>"
      ]
     },
     "execution_count": 8,
     "metadata": {},
     "output_type": "execute_result"
    }
   ],
   "source": [
    "# Combining the two groups by both surname & final marks \n",
    "group_surname_marks =classlist_final.groupby(['Surname', 'Final mark'])\n",
    "\n",
    "group_surname_marks"
   ]
  },
  {
   "cell_type": "code",
   "execution_count": 10,
   "id": "0f7d3f44",
   "metadata": {},
   "outputs": [
    {
     "name": "stderr",
     "output_type": "stream",
     "text": [
      "/var/folders/cn/47qy272s11q7_n4t9zj37np40000gn/T/ipykernel_4719/300992951.py:4: FutureWarning: The default value of numeric_only in DataFrameGroupBy.sum is deprecated. In a future version, numeric_only will default to False. Either specify numeric_only or select only columns which should be valid for the function.\n",
      "  group_surname_marks.sum()\n"
     ]
    },
    {
     "data": {
      "text/html": [
       "<div>\n",
       "<style scoped>\n",
       "    .dataframe tbody tr th:only-of-type {\n",
       "        vertical-align: middle;\n",
       "    }\n",
       "\n",
       "    .dataframe tbody tr th {\n",
       "        vertical-align: top;\n",
       "    }\n",
       "\n",
       "    .dataframe thead th {\n",
       "        text-align: right;\n",
       "    }\n",
       "</style>\n",
       "<table border=\"1\" class=\"dataframe\">\n",
       "  <thead>\n",
       "    <tr style=\"text-align: right;\">\n",
       "      <th></th>\n",
       "      <th></th>\n",
       "      <th>Student number</th>\n",
       "    </tr>\n",
       "    <tr>\n",
       "      <th>Surname</th>\n",
       "      <th>Final mark</th>\n",
       "      <th></th>\n",
       "    </tr>\n",
       "  </thead>\n",
       "  <tbody>\n",
       "    <tr>\n",
       "      <th>ABRAHAMS</th>\n",
       "      <th>48.00</th>\n",
       "      <td>15793648</td>\n",
       "    </tr>\n",
       "    <tr>\n",
       "      <th>ACKERMANN</th>\n",
       "      <th>45.00</th>\n",
       "      <td>17483638</td>\n",
       "    </tr>\n",
       "    <tr>\n",
       "      <th>ADENDORFF</th>\n",
       "      <th>76.50</th>\n",
       "      <td>15849376</td>\n",
       "    </tr>\n",
       "    <tr>\n",
       "      <th>AFONSO</th>\n",
       "      <th>47.72</th>\n",
       "      <td>15476227</td>\n",
       "    </tr>\n",
       "    <tr>\n",
       "      <th>ALBERTUS</th>\n",
       "      <th>57.00</th>\n",
       "      <td>16564499</td>\n",
       "    </tr>\n",
       "    <tr>\n",
       "      <th>...</th>\n",
       "      <th>...</th>\n",
       "      <td>...</td>\n",
       "    </tr>\n",
       "    <tr>\n",
       "      <th>YOUNG</th>\n",
       "      <th>88.05</th>\n",
       "      <td>15849390</td>\n",
       "    </tr>\n",
       "    <tr>\n",
       "      <th>ZINN</th>\n",
       "      <th>74.00</th>\n",
       "      <td>17094607</td>\n",
       "    </tr>\n",
       "    <tr>\n",
       "      <th>ZONDAGH</th>\n",
       "      <th>59.10</th>\n",
       "      <td>15897184</td>\n",
       "    </tr>\n",
       "    <tr>\n",
       "      <th>ZONDI</th>\n",
       "      <th>74.46</th>\n",
       "      <td>16324773</td>\n",
       "    </tr>\n",
       "    <tr>\n",
       "      <th>ZUMA</th>\n",
       "      <th>64.50</th>\n",
       "      <td>16782879</td>\n",
       "    </tr>\n",
       "  </tbody>\n",
       "</table>\n",
       "<p>673 rows × 1 columns</p>\n",
       "</div>"
      ],
      "text/plain": [
       "                                           Student number\n",
       "Surname                        Final mark                \n",
       "ABRAHAMS                       48.00             15793648\n",
       "ACKERMANN                      45.00             17483638\n",
       "ADENDORFF                      76.50             15849376\n",
       "AFONSO                         47.72             15476227\n",
       "ALBERTUS                       57.00             16564499\n",
       "...                                                   ...\n",
       "YOUNG                          88.05             15849390\n",
       "ZINN                           74.00             17094607\n",
       "ZONDAGH                        59.10             15897184\n",
       "ZONDI                          74.46             16324773\n",
       "ZUMA                           64.50             16782879\n",
       "\n",
       "[673 rows x 1 columns]"
      ]
     },
     "execution_count": 10,
     "metadata": {},
     "output_type": "execute_result"
    }
   ],
   "source": [
    "# Combinination of the groups using aggregate()\n",
    "\n",
    "# Sum() method into groupby()\n",
    "group_surname_marks.sum()"
   ]
  },
  {
   "cell_type": "code",
   "execution_count": 11,
   "id": "bb4e84cf",
   "metadata": {},
   "outputs": [
    {
     "data": {
      "text/plain": [
       "Surname                         Final mark\n",
       "ABRAHAMS                        48.00         1\n",
       "ACKERMANN                       45.00         1\n",
       "ADENDORFF                       76.50         1\n",
       "AFONSO                          47.72         1\n",
       "ALBERTUS                        57.00         1\n",
       "                                             ..\n",
       "YOUNG                           88.05         1\n",
       "ZINN                            74.00         1\n",
       "ZONDAGH                         59.10         1\n",
       "ZONDI                           74.46         1\n",
       "ZUMA                            64.50         1\n",
       "Length: 673, dtype: int64"
      ]
     },
     "execution_count": 11,
     "metadata": {},
     "output_type": "execute_result"
    }
   ],
   "source": [
    "group_surname_marks.size()"
   ]
  },
  {
   "cell_type": "code",
   "execution_count": 12,
   "id": "6e7d05ba",
   "metadata": {},
   "outputs": [
    {
     "data": {
      "text/plain": [
       "Surname\n",
       "ABRAHAMS                          1\n",
       "ACKERMANN                         1\n",
       "ADENDORFF                         1\n",
       "AFONSO                            1\n",
       "ALBERTUS                          1\n",
       "                                 ..\n",
       "YOUNG                             1\n",
       "ZINN                              1\n",
       "ZONDAGH                           1\n",
       "ZONDI                             1\n",
       "ZUMA                              1\n",
       "Length: 534, dtype: int64"
      ]
     },
     "execution_count": 12,
     "metadata": {},
     "output_type": "execute_result"
    }
   ],
   "source": [
    "group_surname.size()"
   ]
  },
  {
   "cell_type": "code",
   "execution_count": 14,
   "id": "f1af95c7",
   "metadata": {},
   "outputs": [
    {
     "data": {
      "text/html": [
       "<div>\n",
       "<style scoped>\n",
       "    .dataframe tbody tr th:only-of-type {\n",
       "        vertical-align: middle;\n",
       "    }\n",
       "\n",
       "    .dataframe tbody tr th {\n",
       "        vertical-align: top;\n",
       "    }\n",
       "\n",
       "    .dataframe thead th {\n",
       "        text-align: right;\n",
       "    }\n",
       "</style>\n",
       "<table border=\"1\" class=\"dataframe\">\n",
       "  <thead>\n",
       "    <tr style=\"text-align: right;\">\n",
       "      <th></th>\n",
       "      <th></th>\n",
       "      <th>Student number</th>\n",
       "      <th>Final mark</th>\n",
       "      <th>Class</th>\n",
       "    </tr>\n",
       "    <tr>\n",
       "      <th>Surname</th>\n",
       "      <th>Initials</th>\n",
       "      <th></th>\n",
       "      <th></th>\n",
       "      <th></th>\n",
       "    </tr>\n",
       "  </thead>\n",
       "  <tbody>\n",
       "    <tr>\n",
       "      <th>ABRAHAMS</th>\n",
       "      <th>B</th>\n",
       "      <td>1</td>\n",
       "      <td>1</td>\n",
       "      <td>1</td>\n",
       "    </tr>\n",
       "    <tr>\n",
       "      <th>ACKERMANN</th>\n",
       "      <th>E</th>\n",
       "      <td>1</td>\n",
       "      <td>1</td>\n",
       "      <td>1</td>\n",
       "    </tr>\n",
       "    <tr>\n",
       "      <th>ADENDORFF</th>\n",
       "      <th>K</th>\n",
       "      <td>1</td>\n",
       "      <td>1</td>\n",
       "      <td>1</td>\n",
       "    </tr>\n",
       "    <tr>\n",
       "      <th>AFONSO</th>\n",
       "      <th>L</th>\n",
       "      <td>1</td>\n",
       "      <td>1</td>\n",
       "      <td>1</td>\n",
       "    </tr>\n",
       "    <tr>\n",
       "      <th>ALBERTUS</th>\n",
       "      <th>S</th>\n",
       "      <td>1</td>\n",
       "      <td>1</td>\n",
       "      <td>1</td>\n",
       "    </tr>\n",
       "    <tr>\n",
       "      <th>...</th>\n",
       "      <th>...</th>\n",
       "      <td>...</td>\n",
       "      <td>...</td>\n",
       "      <td>...</td>\n",
       "    </tr>\n",
       "    <tr>\n",
       "      <th>YOUNG</th>\n",
       "      <th>V A</th>\n",
       "      <td>1</td>\n",
       "      <td>1</td>\n",
       "      <td>1</td>\n",
       "    </tr>\n",
       "    <tr>\n",
       "      <th>ZINN</th>\n",
       "      <th>A</th>\n",
       "      <td>1</td>\n",
       "      <td>1</td>\n",
       "      <td>1</td>\n",
       "    </tr>\n",
       "    <tr>\n",
       "      <th>ZONDAGH</th>\n",
       "      <th>L</th>\n",
       "      <td>1</td>\n",
       "      <td>1</td>\n",
       "      <td>1</td>\n",
       "    </tr>\n",
       "    <tr>\n",
       "      <th>ZONDI</th>\n",
       "      <th>WP</th>\n",
       "      <td>1</td>\n",
       "      <td>1</td>\n",
       "      <td>1</td>\n",
       "    </tr>\n",
       "    <tr>\n",
       "      <th>ZUMA</th>\n",
       "      <th>MC</th>\n",
       "      <td>1</td>\n",
       "      <td>1</td>\n",
       "      <td>1</td>\n",
       "    </tr>\n",
       "  </tbody>\n",
       "</table>\n",
       "<p>666 rows × 3 columns</p>\n",
       "</div>"
      ],
      "text/plain": [
       "                                           Student number  Final mark  Class\n",
       "Surname                        Initials                                     \n",
       "ABRAHAMS                       B                        1           1      1\n",
       "ACKERMANN                      E                        1           1      1\n",
       "ADENDORFF                      K                        1           1      1\n",
       "AFONSO                         L                        1           1      1\n",
       "ALBERTUS                       S                        1           1      1\n",
       "...                                                   ...         ...    ...\n",
       "YOUNG                          V A                      1           1      1\n",
       "ZINN                           A                        1           1      1\n",
       "ZONDAGH                        L                        1           1      1\n",
       "ZONDI                          WP                       1           1      1\n",
       "ZUMA                           MC                       1           1      1\n",
       "\n",
       "[666 rows x 3 columns]"
      ]
     },
     "execution_count": 14,
     "metadata": {},
     "output_type": "execute_result"
    }
   ],
   "source": [
    "group_surname_initials.count()"
   ]
  },
  {
   "cell_type": "code",
   "execution_count": 15,
   "id": "22819dfe",
   "metadata": {},
   "outputs": [
    {
     "data": {
      "text/plain": [
       "Surname                         Initials  \n",
       "ABRAHAMS                        B             1\n",
       "ACKERMANN                       E             1\n",
       "ADENDORFF                       K             1\n",
       "AFONSO                          L             1\n",
       "ALBERTUS                        S             1\n",
       "                                             ..\n",
       "YOUNG                           V A           1\n",
       "ZINN                            A             1\n",
       "ZONDAGH                         L             1\n",
       "ZONDI                           WP            1\n",
       "ZUMA                            MC            1\n",
       "Length: 666, dtype: int64"
      ]
     },
     "execution_count": 15,
     "metadata": {},
     "output_type": "execute_result"
    }
   ],
   "source": [
    "group_initials = classlist_final.groupby('Initials')\n",
    "\n",
    "group_surname_initials = classlist_final.groupby(['Surname', 'Initials'])\n",
    "\n",
    "group_surname_initials.size()"
   ]
  },
  {
   "cell_type": "markdown",
   "id": "95b23a60",
   "metadata": {},
   "source": []
  },
  {
   "cell_type": "code",
   "execution_count": null,
   "id": "d51c7298",
   "metadata": {},
   "outputs": [],
   "source": []
  }
 ],
 "metadata": {
  "kernelspec": {
   "display_name": "Python 3 (ipykernel)",
   "language": "python",
   "name": "python3"
  },
  "language_info": {
   "codemirror_mode": {
    "name": "ipython",
    "version": 3
   },
   "file_extension": ".py",
   "mimetype": "text/x-python",
   "name": "python",
   "nbconvert_exporter": "python",
   "pygments_lexer": "ipython3",
   "version": "3.10.9"
  }
 },
 "nbformat": 4,
 "nbformat_minor": 5
}

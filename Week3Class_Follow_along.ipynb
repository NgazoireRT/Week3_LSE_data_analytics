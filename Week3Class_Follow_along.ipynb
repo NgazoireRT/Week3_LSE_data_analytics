{
 "cells": [
  {
   "cell_type": "code",
   "execution_count": 1,
   "id": "faf2528d",
   "metadata": {},
   "outputs": [],
   "source": [
    "import pandas as pd\n",
    "import numpy as np"
   ]
  },
  {
   "cell_type": "code",
   "execution_count": 2,
   "id": "7fbf053c",
   "metadata": {},
   "outputs": [
    {
     "data": {
      "text/plain": [
       "'1.5.3'"
      ]
     },
     "execution_count": 2,
     "metadata": {},
     "output_type": "execute_result"
    }
   ],
   "source": [
    "pd.__version__"
   ]
  },
  {
   "cell_type": "markdown",
   "id": "d52b4b37",
   "metadata": {},
   "source": [
    "# 3.1.2 Introduction to concat()\n",
    "\n",
    "Combining data sets with concat()"
   ]
  },
  {
   "cell_type": "code",
   "execution_count": 4,
   "id": "a250b94a",
   "metadata": {},
   "outputs": [
    {
     "data": {
      "text/html": [
       "<div>\n",
       "<style scoped>\n",
       "    .dataframe tbody tr th:only-of-type {\n",
       "        vertical-align: middle;\n",
       "    }\n",
       "\n",
       "    .dataframe tbody tr th {\n",
       "        vertical-align: top;\n",
       "    }\n",
       "\n",
       "    .dataframe thead th {\n",
       "        text-align: right;\n",
       "    }\n",
       "</style>\n",
       "<table border=\"1\" class=\"dataframe\">\n",
       "  <thead>\n",
       "    <tr style=\"text-align: right;\">\n",
       "      <th></th>\n",
       "      <th>VW</th>\n",
       "      <th>Toyota</th>\n",
       "      <th>Honda</th>\n",
       "      <th>BMW</th>\n",
       "    </tr>\n",
       "  </thead>\n",
       "  <tbody>\n",
       "    <tr>\n",
       "      <th>0</th>\n",
       "      <td>Polo</td>\n",
       "      <td>Agya</td>\n",
       "      <td>Brio</td>\n",
       "      <td>BMW1</td>\n",
       "    </tr>\n",
       "    <tr>\n",
       "      <th>1</th>\n",
       "      <td>T-Cross</td>\n",
       "      <td>Corolla</td>\n",
       "      <td>Jazz</td>\n",
       "      <td>BMW2</td>\n",
       "    </tr>\n",
       "    <tr>\n",
       "      <th>2</th>\n",
       "      <td>Tiguan</td>\n",
       "      <td>Rav4</td>\n",
       "      <td>HRV</td>\n",
       "      <td>BMW3</td>\n",
       "    </tr>\n",
       "    <tr>\n",
       "      <th>3</th>\n",
       "      <td>Toureg</td>\n",
       "      <td>Land Cruiser</td>\n",
       "      <td>CRV</td>\n",
       "      <td>BMW4</td>\n",
       "    </tr>\n",
       "  </tbody>\n",
       "</table>\n",
       "</div>"
      ],
      "text/plain": [
       "        VW        Toyota Honda   BMW\n",
       "0     Polo          Agya  Brio  BMW1\n",
       "1  T-Cross       Corolla  Jazz  BMW2\n",
       "2   Tiguan          Rav4   HRV  BMW3\n",
       "3   Toureg  Land Cruiser   CRV  BMW4"
      ]
     },
     "execution_count": 4,
     "metadata": {},
     "output_type": "execute_result"
    }
   ],
   "source": [
    "# Create a DataFrame for the car models.\n",
    "# Import Pandas.\n",
    "import pandas as pd\n",
    "\n",
    "# Create the DataFrame.\n",
    "cars = pd.DataFrame({'VW': ['Polo', 'T-Cross', 'Tiguan', 'Toureg'],\n",
    "                     'Toyota': ['Agya', 'Corolla', 'Rav4', 'Land Cruiser'],\n",
    "                     'Honda': ['Brio', 'Jazz', 'HRV', 'CRV'], \n",
    "                     'BMW': ['BMW1', 'BMW2', 'BMW3', 'BMW4']}, \n",
    "                    index=[0, 1, 2, 3])\n",
    "\n",
    "# View the DataFrame.\n",
    "cars"
   ]
  },
  {
   "cell_type": "code",
   "execution_count": 6,
   "id": "2fbc3aa2",
   "metadata": {},
   "outputs": [
    {
     "data": {
      "text/html": [
       "<div>\n",
       "<style scoped>\n",
       "    .dataframe tbody tr th:only-of-type {\n",
       "        vertical-align: middle;\n",
       "    }\n",
       "\n",
       "    .dataframe tbody tr th {\n",
       "        vertical-align: top;\n",
       "    }\n",
       "\n",
       "    .dataframe thead th {\n",
       "        text-align: right;\n",
       "    }\n",
       "</style>\n",
       "<table border=\"1\" class=\"dataframe\">\n",
       "  <thead>\n",
       "    <tr style=\"text-align: right;\">\n",
       "      <th></th>\n",
       "      <th>VW</th>\n",
       "      <th>Toyota</th>\n",
       "      <th>Honda</th>\n",
       "      <th>BMW</th>\n",
       "    </tr>\n",
       "  </thead>\n",
       "  <tbody>\n",
       "    <tr>\n",
       "      <th>4</th>\n",
       "      <td>-</td>\n",
       "      <td>-</td>\n",
       "      <td>Shine</td>\n",
       "      <td>Sport</td>\n",
       "    </tr>\n",
       "    <tr>\n",
       "      <th>5</th>\n",
       "      <td>-</td>\n",
       "      <td>-</td>\n",
       "      <td>Activa</td>\n",
       "      <td>Roadster</td>\n",
       "    </tr>\n",
       "    <tr>\n",
       "      <th>6</th>\n",
       "      <td>-</td>\n",
       "      <td>-</td>\n",
       "      <td>Comfort Travel</td>\n",
       "      <td>Heritage</td>\n",
       "    </tr>\n",
       "    <tr>\n",
       "      <th>7</th>\n",
       "      <td>-</td>\n",
       "      <td>-</td>\n",
       "      <td>Adventure Sport</td>\n",
       "      <td>Adventure</td>\n",
       "    </tr>\n",
       "  </tbody>\n",
       "</table>\n",
       "</div>"
      ],
      "text/plain": [
       "  VW Toyota            Honda        BMW\n",
       "4  -      -            Shine      Sport\n",
       "5  -      -           Activa   Roadster\n",
       "6  -      -   Comfort Travel   Heritage\n",
       "7  -      -  Adventure Sport  Adventure"
      ]
     },
     "execution_count": 6,
     "metadata": {},
     "output_type": "execute_result"
    }
   ],
   "source": [
    "# Create the motorcycle models DataFrame\n",
    "\n",
    "motorcycles = pd.DataFrame({'VW': ['-', '-','-', '-'],\n",
    "                           'Toyota': ['-', '-', '-', '-'],\n",
    "                            'Honda': ['Shine', 'Activa', 'Comfort Travel',\n",
    "                                      'Adventure Sport'],\n",
    "                            'BMW': ['Sport', 'Roadster', 'Heritage', 'Adventure']},\n",
    "                           index=[4, 5, 6, 7])\n",
    "\n",
    "# View the DataFrame.\n",
    "motorcycles"
   ]
  },
  {
   "cell_type": "markdown",
   "id": "270701d0",
   "metadata": {},
   "source": [
    "# Concatenate the two DataFrames\n",
    "\n",
    "What if you want to change the index of each DataFrame to distinguish between the two data sets? For example, the index of the cars DataFrame can be car1, car2, car3, and car4. The index for the motorcycles DataFrame can be mcycle1, mcycle2, mcycle3, and mcycle4. How would you write the code snippet?\n",
    "\n",
    "Follow these prompts:\n",
    "\n",
    "Create the two separate DataFrames with the new indexes as indicated previously. \n",
    "Name the new DataFrames cars_2 and motorcycles_2 respectively.\n",
    "Use the same code snippet as before and combine the two DataFrames with the concat() function.\n",
    "Name the new concatenated DataFrame products_2."
   ]
  },
  {
   "cell_type": "code",
   "execution_count": 7,
   "id": "1f2b6f89",
   "metadata": {},
   "outputs": [
    {
     "data": {
      "text/html": [
       "<div>\n",
       "<style scoped>\n",
       "    .dataframe tbody tr th:only-of-type {\n",
       "        vertical-align: middle;\n",
       "    }\n",
       "\n",
       "    .dataframe tbody tr th {\n",
       "        vertical-align: top;\n",
       "    }\n",
       "\n",
       "    .dataframe thead th {\n",
       "        text-align: right;\n",
       "    }\n",
       "</style>\n",
       "<table border=\"1\" class=\"dataframe\">\n",
       "  <thead>\n",
       "    <tr style=\"text-align: right;\">\n",
       "      <th></th>\n",
       "      <th>VW</th>\n",
       "      <th>Toyota</th>\n",
       "      <th>Honda</th>\n",
       "      <th>BMW</th>\n",
       "    </tr>\n",
       "  </thead>\n",
       "  <tbody>\n",
       "    <tr>\n",
       "      <th>car1</th>\n",
       "      <td>Polo</td>\n",
       "      <td>Agya</td>\n",
       "      <td>Brio</td>\n",
       "      <td>BMW1</td>\n",
       "    </tr>\n",
       "    <tr>\n",
       "      <th>car2</th>\n",
       "      <td>T-Cross</td>\n",
       "      <td>Corolla</td>\n",
       "      <td>Jazz</td>\n",
       "      <td>BMW2</td>\n",
       "    </tr>\n",
       "    <tr>\n",
       "      <th>car3</th>\n",
       "      <td>Tiguan</td>\n",
       "      <td>Rav4</td>\n",
       "      <td>HRV</td>\n",
       "      <td>BMW3</td>\n",
       "    </tr>\n",
       "    <tr>\n",
       "      <th>car4</th>\n",
       "      <td>Toureg</td>\n",
       "      <td>Land Cruiser</td>\n",
       "      <td>CRV</td>\n",
       "      <td>BMW4</td>\n",
       "    </tr>\n",
       "    <tr>\n",
       "      <th>mcycle1</th>\n",
       "      <td>-</td>\n",
       "      <td>-</td>\n",
       "      <td>Shine</td>\n",
       "      <td>Sport</td>\n",
       "    </tr>\n",
       "    <tr>\n",
       "      <th>mcycle2</th>\n",
       "      <td>-</td>\n",
       "      <td>-</td>\n",
       "      <td>Activa</td>\n",
       "      <td>Roadster</td>\n",
       "    </tr>\n",
       "    <tr>\n",
       "      <th>mcycle3</th>\n",
       "      <td>-</td>\n",
       "      <td>-</td>\n",
       "      <td>Comfort Travel</td>\n",
       "      <td>Heritage</td>\n",
       "    </tr>\n",
       "    <tr>\n",
       "      <th>mcycle4</th>\n",
       "      <td>-</td>\n",
       "      <td>-</td>\n",
       "      <td>Adventure Sport</td>\n",
       "      <td>Adventure</td>\n",
       "    </tr>\n",
       "  </tbody>\n",
       "</table>\n",
       "</div>"
      ],
      "text/plain": [
       "              VW        Toyota            Honda        BMW\n",
       "car1        Polo          Agya             Brio       BMW1\n",
       "car2     T-Cross       Corolla             Jazz       BMW2\n",
       "car3      Tiguan          Rav4              HRV       BMW3\n",
       "car4      Toureg  Land Cruiser              CRV       BMW4\n",
       "mcycle1        -             -            Shine      Sport\n",
       "mcycle2        -             -           Activa   Roadster\n",
       "mcycle3        -             -   Comfort Travel   Heritage\n",
       "mcycle4        -             -  Adventure Sport  Adventure"
      ]
     },
     "execution_count": 7,
     "metadata": {},
     "output_type": "execute_result"
    }
   ],
   "source": [
    "# Create cars_2 DataFrame.\n",
    "cars_2 = pd.DataFrame({'VW': ['Polo', 'T-Cross', 'Tiguan', 'Toureg'],\n",
    "                       'Toyota': ['Agya', 'Corolla', 'Rav4', 'Land Cruiser'],\n",
    "                       'Honda': ['Brio', 'Jazz', 'HRV', 'CRV'], \n",
    "                       'BMW': ['BMW1', 'BMW2', 'BMW3', 'BMW4']},\n",
    "                     index=['car1', 'car2', 'car3', 'car4'])\n",
    "\n",
    "\n",
    "# Create motorcycles_2 DataFrame.\n",
    "motorcycles_2 = pd.DataFrame({'VW': ['-', '-', '-', '-'],\n",
    "                              'Toyota': ['-', '-', '-', '-'],\n",
    "                              'Honda': ['Shine', 'Activa', 'Comfort Travel', \n",
    "                                        'Adventure Sport'],\n",
    "                              'BMW': ['Sport', 'Roadster', 'Heritage', 'Adventure']},\n",
    "                            index=['mcycle1', 'mcycle2', 'mcycle3', 'mcycle4'])\n",
    "\n",
    "\n",
    "# Concatenate the two DataFrames.\n",
    "products_2 = pd.concat([cars_2, motorcycles_2])\n",
    "\n",
    "# View the DataFrame.\n",
    "products_2"
   ]
  },
  {
   "cell_type": "markdown",
   "id": "a6ae4e07",
   "metadata": {},
   "source": [
    "# Demonstration of the concat() function"
   ]
  },
  {
   "cell_type": "code",
   "execution_count": 4,
   "id": "ceef2856",
   "metadata": {},
   "outputs": [
    {
     "name": "stdout",
     "output_type": "stream",
     "text": [
      "(145, 5)\n"
     ]
    },
    {
     "data": {
      "text/html": [
       "<div>\n",
       "<style scoped>\n",
       "    .dataframe tbody tr th:only-of-type {\n",
       "        vertical-align: middle;\n",
       "    }\n",
       "\n",
       "    .dataframe tbody tr th {\n",
       "        vertical-align: top;\n",
       "    }\n",
       "\n",
       "    .dataframe thead th {\n",
       "        text-align: right;\n",
       "    }\n",
       "</style>\n",
       "<table border=\"1\" class=\"dataframe\">\n",
       "  <thead>\n",
       "    <tr style=\"text-align: right;\">\n",
       "      <th></th>\n",
       "      <th>Student number</th>\n",
       "      <th>Surname</th>\n",
       "      <th>Initials</th>\n",
       "      <th>Final mark</th>\n",
       "      <th>Class</th>\n",
       "    </tr>\n",
       "  </thead>\n",
       "  <tbody>\n",
       "    <tr>\n",
       "      <th>0</th>\n",
       "      <td>15476227</td>\n",
       "      <td>AFONSO</td>\n",
       "      <td>L</td>\n",
       "      <td>47.72</td>\n",
       "      <td>E</td>\n",
       "    </tr>\n",
       "    <tr>\n",
       "      <th>1</th>\n",
       "      <td>15311279</td>\n",
       "      <td>ALBERTYN</td>\n",
       "      <td>F J H</td>\n",
       "      <td>57.52</td>\n",
       "      <td>A</td>\n",
       "    </tr>\n",
       "    <tr>\n",
       "      <th>2</th>\n",
       "      <td>15637913</td>\n",
       "      <td>ALEXANDER</td>\n",
       "      <td>L</td>\n",
       "      <td>90.68</td>\n",
       "      <td>E</td>\n",
       "    </tr>\n",
       "    <tr>\n",
       "      <th>3</th>\n",
       "      <td>15124150</td>\n",
       "      <td>BAM</td>\n",
       "      <td>A J</td>\n",
       "      <td>56.43</td>\n",
       "      <td>E</td>\n",
       "    </tr>\n",
       "    <tr>\n",
       "      <th>4</th>\n",
       "      <td>15829626</td>\n",
       "      <td>BARROW</td>\n",
       "      <td>S B</td>\n",
       "      <td>79.64</td>\n",
       "      <td>E</td>\n",
       "    </tr>\n",
       "  </tbody>\n",
       "</table>\n",
       "</div>"
      ],
      "text/plain": [
       "   Student number    Surname Initials  Final mark Class\n",
       "0        15476227     AFONSO        L       47.72     E\n",
       "1        15311279   ALBERTYN    F J H       57.52     A\n",
       "2        15637913  ALEXANDER        L       90.68     E\n",
       "3        15124150        BAM      A J       56.43     E\n",
       "4        15829626     BARROW      S B       79.64     E"
      ]
     },
     "execution_count": 4,
     "metadata": {},
     "output_type": "execute_result"
    }
   ],
   "source": [
    "# Import Pandas. \n",
    "import pandas as pd\n",
    "\n",
    "# Read the CSV file.\n",
    "classlist_a = pd.read_csv('classlist_a.csv')\n",
    "classlist_b = pd.read_csv('classlist_b.csv')\n",
    "classlist_c = pd.read_csv('classlist_c.csv')\n",
    "classlist_d = pd.read_csv('classlist_d.csv')\n",
    "\n",
    "# Determine shape of classlist.\n",
    "print(classlist_a.shape)\n",
    "classlist_a.head()"
   ]
  },
  {
   "cell_type": "code",
   "execution_count": 11,
   "id": "6f75720f",
   "metadata": {},
   "outputs": [
    {
     "name": "stdout",
     "output_type": "stream",
     "text": [
      "(126, 5)\n"
     ]
    },
    {
     "data": {
      "text/html": [
       "<div>\n",
       "<style scoped>\n",
       "    .dataframe tbody tr th:only-of-type {\n",
       "        vertical-align: middle;\n",
       "    }\n",
       "\n",
       "    .dataframe tbody tr th {\n",
       "        vertical-align: top;\n",
       "    }\n",
       "\n",
       "    .dataframe thead th {\n",
       "        text-align: right;\n",
       "    }\n",
       "</style>\n",
       "<table border=\"1\" class=\"dataframe\">\n",
       "  <thead>\n",
       "    <tr style=\"text-align: right;\">\n",
       "      <th></th>\n",
       "      <th>Student number</th>\n",
       "      <th>Surname</th>\n",
       "      <th>Initials</th>\n",
       "      <th>Final mark</th>\n",
       "      <th>Class</th>\n",
       "    </tr>\n",
       "  </thead>\n",
       "  <tbody>\n",
       "    <tr>\n",
       "      <th>0</th>\n",
       "      <td>16138201</td>\n",
       "      <td>ATWOOD</td>\n",
       "      <td>BJ</td>\n",
       "      <td>73.27</td>\n",
       "      <td>E</td>\n",
       "    </tr>\n",
       "    <tr>\n",
       "      <th>1</th>\n",
       "      <td>16007530</td>\n",
       "      <td>BASSON</td>\n",
       "      <td>WC</td>\n",
       "      <td>44.18</td>\n",
       "      <td>E</td>\n",
       "    </tr>\n",
       "    <tr>\n",
       "      <th>2</th>\n",
       "      <td>16764773</td>\n",
       "      <td>BESSA</td>\n",
       "      <td>LW</td>\n",
       "      <td>49.10</td>\n",
       "      <td>E</td>\n",
       "    </tr>\n",
       "    <tr>\n",
       "      <th>3</th>\n",
       "      <td>15991733</td>\n",
       "      <td>BESTER</td>\n",
       "      <td>C</td>\n",
       "      <td>67.44</td>\n",
       "      <td>A</td>\n",
       "    </tr>\n",
       "    <tr>\n",
       "      <th>4</th>\n",
       "      <td>16127447</td>\n",
       "      <td>BLOM</td>\n",
       "      <td>PJ</td>\n",
       "      <td>42.52</td>\n",
       "      <td>A</td>\n",
       "    </tr>\n",
       "  </tbody>\n",
       "</table>\n",
       "</div>"
      ],
      "text/plain": [
       "   Student number Surname Initials  Final mark Class\n",
       "0        16138201  ATWOOD       BJ       73.27     E\n",
       "1        16007530  BASSON       WC       44.18     E\n",
       "2        16764773   BESSA       LW       49.10     E\n",
       "3        15991733  BESTER        C       67.44     A\n",
       "4        16127447    BLOM       PJ       42.52     A"
      ]
     },
     "execution_count": 11,
     "metadata": {},
     "output_type": "execute_result"
    }
   ],
   "source": [
    "print(classlist_b.shape)\n",
    "classlist_b.head()"
   ]
  },
  {
   "cell_type": "code",
   "execution_count": 12,
   "id": "44ab8f4c",
   "metadata": {},
   "outputs": [
    {
     "name": "stdout",
     "output_type": "stream",
     "text": [
      "(185, 5)\n"
     ]
    },
    {
     "data": {
      "text/html": [
       "<div>\n",
       "<style scoped>\n",
       "    .dataframe tbody tr th:only-of-type {\n",
       "        vertical-align: middle;\n",
       "    }\n",
       "\n",
       "    .dataframe tbody tr th {\n",
       "        vertical-align: top;\n",
       "    }\n",
       "\n",
       "    .dataframe thead th {\n",
       "        text-align: right;\n",
       "    }\n",
       "</style>\n",
       "<table border=\"1\" class=\"dataframe\">\n",
       "  <thead>\n",
       "    <tr style=\"text-align: right;\">\n",
       "      <th></th>\n",
       "      <th>Student number</th>\n",
       "      <th>Surname</th>\n",
       "      <th>Initials</th>\n",
       "      <th>Final mark</th>\n",
       "      <th>Class</th>\n",
       "    </tr>\n",
       "  </thead>\n",
       "  <tbody>\n",
       "    <tr>\n",
       "      <th>0</th>\n",
       "      <td>15849376</td>\n",
       "      <td>ADENDORFF</td>\n",
       "      <td>K</td>\n",
       "      <td>76.50</td>\n",
       "      <td>E</td>\n",
       "    </tr>\n",
       "    <tr>\n",
       "      <th>1</th>\n",
       "      <td>15805751</td>\n",
       "      <td>AUDITORE</td>\n",
       "      <td>L</td>\n",
       "      <td>64.25</td>\n",
       "      <td>E</td>\n",
       "    </tr>\n",
       "    <tr>\n",
       "      <th>2</th>\n",
       "      <td>16160045</td>\n",
       "      <td>BAARD</td>\n",
       "      <td>JC</td>\n",
       "      <td>51.25</td>\n",
       "      <td>E</td>\n",
       "    </tr>\n",
       "    <tr>\n",
       "      <th>3</th>\n",
       "      <td>16488547</td>\n",
       "      <td>BADENHORST</td>\n",
       "      <td>MJ</td>\n",
       "      <td>68.00</td>\n",
       "      <td>A</td>\n",
       "    </tr>\n",
       "    <tr>\n",
       "      <th>4</th>\n",
       "      <td>16586263</td>\n",
       "      <td>BASSON</td>\n",
       "      <td>J</td>\n",
       "      <td>57.75</td>\n",
       "      <td>A</td>\n",
       "    </tr>\n",
       "  </tbody>\n",
       "</table>\n",
       "</div>"
      ],
      "text/plain": [
       "   Student number     Surname    Initials  Final mark Class\n",
       "0        15849376   ADENDORFF  K                76.50     E\n",
       "1        15805751    AUDITORE  L                64.25     E\n",
       "2        16160045       BAARD  JC               51.25     E\n",
       "3        16488547  BADENHORST  MJ               68.00     A\n",
       "4        16586263      BASSON  J                57.75     A"
      ]
     },
     "execution_count": 12,
     "metadata": {},
     "output_type": "execute_result"
    }
   ],
   "source": [
    "print(classlist_c.shape)\n",
    "classlist_c.head()"
   ]
  },
  {
   "cell_type": "code",
   "execution_count": 13,
   "id": "a4648f10",
   "metadata": {},
   "outputs": [
    {
     "name": "stdout",
     "output_type": "stream",
     "text": [
      "(219, 5)\n"
     ]
    },
    {
     "data": {
      "text/html": [
       "<div>\n",
       "<style scoped>\n",
       "    .dataframe tbody tr th:only-of-type {\n",
       "        vertical-align: middle;\n",
       "    }\n",
       "\n",
       "    .dataframe tbody tr th {\n",
       "        vertical-align: top;\n",
       "    }\n",
       "\n",
       "    .dataframe thead th {\n",
       "        text-align: right;\n",
       "    }\n",
       "</style>\n",
       "<table border=\"1\" class=\"dataframe\">\n",
       "  <thead>\n",
       "    <tr style=\"text-align: right;\">\n",
       "      <th></th>\n",
       "      <th>Student number</th>\n",
       "      <th>Surname</th>\n",
       "      <th>Initials</th>\n",
       "      <th>Final mark</th>\n",
       "      <th>Class</th>\n",
       "    </tr>\n",
       "  </thead>\n",
       "  <tbody>\n",
       "    <tr>\n",
       "      <th>0</th>\n",
       "      <td>15793648</td>\n",
       "      <td>ABRAHAMS</td>\n",
       "      <td>B</td>\n",
       "      <td>48</td>\n",
       "      <td>E</td>\n",
       "    </tr>\n",
       "    <tr>\n",
       "      <th>1</th>\n",
       "      <td>17483638</td>\n",
       "      <td>ACKERMANN</td>\n",
       "      <td>E</td>\n",
       "      <td>45</td>\n",
       "      <td>E</td>\n",
       "    </tr>\n",
       "    <tr>\n",
       "      <th>2</th>\n",
       "      <td>16564499</td>\n",
       "      <td>ALBERTUS</td>\n",
       "      <td>S</td>\n",
       "      <td>57</td>\n",
       "      <td>E</td>\n",
       "    </tr>\n",
       "    <tr>\n",
       "      <th>3</th>\n",
       "      <td>17176654</td>\n",
       "      <td>ALWARD</td>\n",
       "      <td>F</td>\n",
       "      <td>0</td>\n",
       "      <td>A</td>\n",
       "    </tr>\n",
       "    <tr>\n",
       "      <th>4</th>\n",
       "      <td>17006414</td>\n",
       "      <td>ANDERSEN</td>\n",
       "      <td>M</td>\n",
       "      <td>28</td>\n",
       "      <td>A</td>\n",
       "    </tr>\n",
       "  </tbody>\n",
       "</table>\n",
       "</div>"
      ],
      "text/plain": [
       "   Student number                         Surname    Initials  Final mark  \\\n",
       "0        15793648  ABRAHAMS                        B                   48   \n",
       "1        17483638  ACKERMANN                       E                   45   \n",
       "2        16564499  ALBERTUS                        S                   57   \n",
       "3        17176654  ALWARD                          F                    0   \n",
       "4        17006414  ANDERSEN                        M                   28   \n",
       "\n",
       "  Class  \n",
       "0     E  \n",
       "1     E  \n",
       "2     E  \n",
       "3     A  \n",
       "4     A  "
      ]
     },
     "execution_count": 13,
     "metadata": {},
     "output_type": "execute_result"
    }
   ],
   "source": [
    "print(classlist_d.shape)\n",
    "classlist_d.head()"
   ]
  },
  {
   "cell_type": "code",
   "execution_count": 16,
   "id": "e77906fd",
   "metadata": {},
   "outputs": [
    {
     "name": "stdout",
     "output_type": "stream",
     "text": [
      "(271, 5)\n"
     ]
    },
    {
     "data": {
      "text/html": [
       "<div>\n",
       "<style scoped>\n",
       "    .dataframe tbody tr th:only-of-type {\n",
       "        vertical-align: middle;\n",
       "    }\n",
       "\n",
       "    .dataframe tbody tr th {\n",
       "        vertical-align: top;\n",
       "    }\n",
       "\n",
       "    .dataframe thead th {\n",
       "        text-align: right;\n",
       "    }\n",
       "</style>\n",
       "<table border=\"1\" class=\"dataframe\">\n",
       "  <thead>\n",
       "    <tr style=\"text-align: right;\">\n",
       "      <th></th>\n",
       "      <th>Student number</th>\n",
       "      <th>Surname</th>\n",
       "      <th>Initials</th>\n",
       "      <th>Final mark</th>\n",
       "      <th>Class</th>\n",
       "    </tr>\n",
       "  </thead>\n",
       "  <tbody>\n",
       "    <tr>\n",
       "      <th>0</th>\n",
       "      <td>15476227</td>\n",
       "      <td>AFONSO</td>\n",
       "      <td>L</td>\n",
       "      <td>47.72</td>\n",
       "      <td>E</td>\n",
       "    </tr>\n",
       "    <tr>\n",
       "      <th>1</th>\n",
       "      <td>15311279</td>\n",
       "      <td>ALBERTYN</td>\n",
       "      <td>F J H</td>\n",
       "      <td>57.52</td>\n",
       "      <td>A</td>\n",
       "    </tr>\n",
       "    <tr>\n",
       "      <th>2</th>\n",
       "      <td>15637913</td>\n",
       "      <td>ALEXANDER</td>\n",
       "      <td>L</td>\n",
       "      <td>90.68</td>\n",
       "      <td>E</td>\n",
       "    </tr>\n",
       "    <tr>\n",
       "      <th>3</th>\n",
       "      <td>15124150</td>\n",
       "      <td>BAM</td>\n",
       "      <td>A J</td>\n",
       "      <td>56.43</td>\n",
       "      <td>E</td>\n",
       "    </tr>\n",
       "    <tr>\n",
       "      <th>4</th>\n",
       "      <td>15829626</td>\n",
       "      <td>BARROW</td>\n",
       "      <td>S B</td>\n",
       "      <td>79.64</td>\n",
       "      <td>E</td>\n",
       "    </tr>\n",
       "    <tr>\n",
       "      <th>...</th>\n",
       "      <td>...</td>\n",
       "      <td>...</td>\n",
       "      <td>...</td>\n",
       "      <td>...</td>\n",
       "      <td>...</td>\n",
       "    </tr>\n",
       "    <tr>\n",
       "      <th>121</th>\n",
       "      <td>16037804</td>\n",
       "      <td>VIVIERS</td>\n",
       "      <td>SF</td>\n",
       "      <td>59.31</td>\n",
       "      <td>A</td>\n",
       "    </tr>\n",
       "    <tr>\n",
       "      <th>122</th>\n",
       "      <td>16239369</td>\n",
       "      <td>WATKINS</td>\n",
       "      <td>TL</td>\n",
       "      <td>76.71</td>\n",
       "      <td>A</td>\n",
       "    </tr>\n",
       "    <tr>\n",
       "      <th>123</th>\n",
       "      <td>16070356</td>\n",
       "      <td>WILKINSON</td>\n",
       "      <td>GN</td>\n",
       "      <td>62.04</td>\n",
       "      <td>E</td>\n",
       "    </tr>\n",
       "    <tr>\n",
       "      <th>124</th>\n",
       "      <td>16083814</td>\n",
       "      <td>WISE</td>\n",
       "      <td>EA</td>\n",
       "      <td>71.82</td>\n",
       "      <td>E</td>\n",
       "    </tr>\n",
       "    <tr>\n",
       "      <th>125</th>\n",
       "      <td>16324773</td>\n",
       "      <td>ZONDI</td>\n",
       "      <td>WP</td>\n",
       "      <td>74.46</td>\n",
       "      <td>A</td>\n",
       "    </tr>\n",
       "  </tbody>\n",
       "</table>\n",
       "<p>271 rows × 5 columns</p>\n",
       "</div>"
      ],
      "text/plain": [
       "     Student number    Surname Initials  Final mark Class\n",
       "0          15476227     AFONSO        L       47.72     E\n",
       "1          15311279   ALBERTYN    F J H       57.52     A\n",
       "2          15637913  ALEXANDER        L       90.68     E\n",
       "3          15124150        BAM      A J       56.43     E\n",
       "4          15829626     BARROW      S B       79.64     E\n",
       "..              ...        ...      ...         ...   ...\n",
       "121        16037804    VIVIERS       SF       59.31     A\n",
       "122        16239369    WATKINS       TL       76.71     A\n",
       "123        16070356  WILKINSON       GN       62.04     E\n",
       "124        16083814       WISE       EA       71.82     E\n",
       "125        16324773      ZONDI       WP       74.46     A\n",
       "\n",
       "[271 rows x 5 columns]"
      ]
     },
     "execution_count": 16,
     "metadata": {},
     "output_type": "execute_result"
    }
   ],
   "source": [
    "# Concatenate class list a and b as ab\n",
    "\n",
    "\"\"\"To combine classlist_a and classlist_b with the concat() function, prepare the code snippet as follows:\n",
    "\n",
    "Create a new DataFrame with the name classlist_ab.\n",
    "Use the pd.concat() function.\n",
    "Specify the two-class lists to be combined as classlist_a and classlist_b.\n",
    "Pass the shape parameter to determine the shape of the data set.\"\"\"\n",
    "\n",
    "# Concat class lists a and b\n",
    "\n",
    "classlist_ab = pd.concat([classlist_a, classlist_b])\n",
    "\n",
    "# View the DataFrame. \n",
    "print((classlist_ab.shape))\n",
    "classlist_ab"
   ]
  },
  {
   "cell_type": "code",
   "execution_count": 17,
   "id": "501e7d8f",
   "metadata": {},
   "outputs": [
    {
     "name": "stdout",
     "output_type": "stream",
     "text": [
      "(404, 5)\n"
     ]
    },
    {
     "data": {
      "text/html": [
       "<div>\n",
       "<style scoped>\n",
       "    .dataframe tbody tr th:only-of-type {\n",
       "        vertical-align: middle;\n",
       "    }\n",
       "\n",
       "    .dataframe tbody tr th {\n",
       "        vertical-align: top;\n",
       "    }\n",
       "\n",
       "    .dataframe thead th {\n",
       "        text-align: right;\n",
       "    }\n",
       "</style>\n",
       "<table border=\"1\" class=\"dataframe\">\n",
       "  <thead>\n",
       "    <tr style=\"text-align: right;\">\n",
       "      <th></th>\n",
       "      <th>Student number</th>\n",
       "      <th>Surname</th>\n",
       "      <th>Initials</th>\n",
       "      <th>Final mark</th>\n",
       "      <th>Class</th>\n",
       "    </tr>\n",
       "  </thead>\n",
       "  <tbody>\n",
       "    <tr>\n",
       "      <th>0</th>\n",
       "      <td>15849376</td>\n",
       "      <td>ADENDORFF</td>\n",
       "      <td>K</td>\n",
       "      <td>76.50</td>\n",
       "      <td>E</td>\n",
       "    </tr>\n",
       "    <tr>\n",
       "      <th>1</th>\n",
       "      <td>15805751</td>\n",
       "      <td>AUDITORE</td>\n",
       "      <td>L</td>\n",
       "      <td>64.25</td>\n",
       "      <td>E</td>\n",
       "    </tr>\n",
       "    <tr>\n",
       "      <th>2</th>\n",
       "      <td>16160045</td>\n",
       "      <td>BAARD</td>\n",
       "      <td>JC</td>\n",
       "      <td>51.25</td>\n",
       "      <td>E</td>\n",
       "    </tr>\n",
       "    <tr>\n",
       "      <th>3</th>\n",
       "      <td>16488547</td>\n",
       "      <td>BADENHORST</td>\n",
       "      <td>MJ</td>\n",
       "      <td>68.00</td>\n",
       "      <td>A</td>\n",
       "    </tr>\n",
       "    <tr>\n",
       "      <th>4</th>\n",
       "      <td>16586263</td>\n",
       "      <td>BASSON</td>\n",
       "      <td>J</td>\n",
       "      <td>57.75</td>\n",
       "      <td>A</td>\n",
       "    </tr>\n",
       "    <tr>\n",
       "      <th>...</th>\n",
       "      <td>...</td>\n",
       "      <td>...</td>\n",
       "      <td>...</td>\n",
       "      <td>...</td>\n",
       "      <td>...</td>\n",
       "    </tr>\n",
       "    <tr>\n",
       "      <th>214</th>\n",
       "      <td>16443144</td>\n",
       "      <td>WIJERS</td>\n",
       "      <td>MC</td>\n",
       "      <td>93.00</td>\n",
       "      <td>E</td>\n",
       "    </tr>\n",
       "    <tr>\n",
       "      <th>215</th>\n",
       "      <td>14955849</td>\n",
       "      <td>WIJNBERG</td>\n",
       "      <td>JM</td>\n",
       "      <td>47.00</td>\n",
       "      <td>E</td>\n",
       "    </tr>\n",
       "    <tr>\n",
       "      <th>216</th>\n",
       "      <td>17140293</td>\n",
       "      <td>WILLIAMS</td>\n",
       "      <td>CA</td>\n",
       "      <td>43.00</td>\n",
       "      <td>A</td>\n",
       "    </tr>\n",
       "    <tr>\n",
       "      <th>217</th>\n",
       "      <td>16771354</td>\n",
       "      <td>WOLHUTER</td>\n",
       "      <td>J</td>\n",
       "      <td>76.00</td>\n",
       "      <td>E</td>\n",
       "    </tr>\n",
       "    <tr>\n",
       "      <th>218</th>\n",
       "      <td>17094607</td>\n",
       "      <td>ZINN</td>\n",
       "      <td>A</td>\n",
       "      <td>74.00</td>\n",
       "      <td>E</td>\n",
       "    </tr>\n",
       "  </tbody>\n",
       "</table>\n",
       "<p>404 rows × 5 columns</p>\n",
       "</div>"
      ],
      "text/plain": [
       "     Student number                         Surname    Initials  Final mark  \\\n",
       "0          15849376                       ADENDORFF  K                76.50   \n",
       "1          15805751                        AUDITORE  L                64.25   \n",
       "2          16160045                           BAARD  JC               51.25   \n",
       "3          16488547                      BADENHORST  MJ               68.00   \n",
       "4          16586263                          BASSON  J                57.75   \n",
       "..              ...                             ...         ...         ...   \n",
       "214        16443144  WIJERS                          MC               93.00   \n",
       "215        14955849  WIJNBERG                        JM               47.00   \n",
       "216        17140293  WILLIAMS                        CA               43.00   \n",
       "217        16771354  WOLHUTER                        J                76.00   \n",
       "218        17094607  ZINN                            A                74.00   \n",
       "\n",
       "    Class  \n",
       "0       E  \n",
       "1       E  \n",
       "2       E  \n",
       "3       A  \n",
       "4       A  \n",
       "..    ...  \n",
       "214     E  \n",
       "215     E  \n",
       "216     A  \n",
       "217     E  \n",
       "218     E  \n",
       "\n",
       "[404 rows x 5 columns]"
      ]
     },
     "execution_count": 17,
     "metadata": {},
     "output_type": "execute_result"
    }
   ],
   "source": [
    "# Concatenate class list c and d as cd\n",
    "\n",
    "classlist_cd = pd.concat([classlist_c, classlist_d])\n",
    "\n",
    "print((classlist_cd.shape))\n",
    "classlist_cd"
   ]
  },
  {
   "cell_type": "code",
   "execution_count": 18,
   "id": "abe38bd7",
   "metadata": {},
   "outputs": [
    {
     "name": "stdout",
     "output_type": "stream",
     "text": [
      "(675, 5)\n"
     ]
    },
    {
     "data": {
      "text/html": [
       "<div>\n",
       "<style scoped>\n",
       "    .dataframe tbody tr th:only-of-type {\n",
       "        vertical-align: middle;\n",
       "    }\n",
       "\n",
       "    .dataframe tbody tr th {\n",
       "        vertical-align: top;\n",
       "    }\n",
       "\n",
       "    .dataframe thead th {\n",
       "        text-align: right;\n",
       "    }\n",
       "</style>\n",
       "<table border=\"1\" class=\"dataframe\">\n",
       "  <thead>\n",
       "    <tr style=\"text-align: right;\">\n",
       "      <th></th>\n",
       "      <th>Student number</th>\n",
       "      <th>Surname</th>\n",
       "      <th>Initials</th>\n",
       "      <th>Final mark</th>\n",
       "      <th>Class</th>\n",
       "    </tr>\n",
       "  </thead>\n",
       "  <tbody>\n",
       "    <tr>\n",
       "      <th>0</th>\n",
       "      <td>15476227</td>\n",
       "      <td>AFONSO</td>\n",
       "      <td>L</td>\n",
       "      <td>47.72</td>\n",
       "      <td>E</td>\n",
       "    </tr>\n",
       "    <tr>\n",
       "      <th>1</th>\n",
       "      <td>15311279</td>\n",
       "      <td>ALBERTYN</td>\n",
       "      <td>F J H</td>\n",
       "      <td>57.52</td>\n",
       "      <td>A</td>\n",
       "    </tr>\n",
       "    <tr>\n",
       "      <th>2</th>\n",
       "      <td>15637913</td>\n",
       "      <td>ALEXANDER</td>\n",
       "      <td>L</td>\n",
       "      <td>90.68</td>\n",
       "      <td>E</td>\n",
       "    </tr>\n",
       "    <tr>\n",
       "      <th>3</th>\n",
       "      <td>15124150</td>\n",
       "      <td>BAM</td>\n",
       "      <td>A J</td>\n",
       "      <td>56.43</td>\n",
       "      <td>E</td>\n",
       "    </tr>\n",
       "    <tr>\n",
       "      <th>4</th>\n",
       "      <td>15829626</td>\n",
       "      <td>BARROW</td>\n",
       "      <td>S B</td>\n",
       "      <td>79.64</td>\n",
       "      <td>E</td>\n",
       "    </tr>\n",
       "    <tr>\n",
       "      <th>...</th>\n",
       "      <td>...</td>\n",
       "      <td>...</td>\n",
       "      <td>...</td>\n",
       "      <td>...</td>\n",
       "      <td>...</td>\n",
       "    </tr>\n",
       "    <tr>\n",
       "      <th>214</th>\n",
       "      <td>16443144</td>\n",
       "      <td>WIJERS</td>\n",
       "      <td>MC</td>\n",
       "      <td>93.00</td>\n",
       "      <td>E</td>\n",
       "    </tr>\n",
       "    <tr>\n",
       "      <th>215</th>\n",
       "      <td>14955849</td>\n",
       "      <td>WIJNBERG</td>\n",
       "      <td>JM</td>\n",
       "      <td>47.00</td>\n",
       "      <td>E</td>\n",
       "    </tr>\n",
       "    <tr>\n",
       "      <th>216</th>\n",
       "      <td>17140293</td>\n",
       "      <td>WILLIAMS</td>\n",
       "      <td>CA</td>\n",
       "      <td>43.00</td>\n",
       "      <td>A</td>\n",
       "    </tr>\n",
       "    <tr>\n",
       "      <th>217</th>\n",
       "      <td>16771354</td>\n",
       "      <td>WOLHUTER</td>\n",
       "      <td>J</td>\n",
       "      <td>76.00</td>\n",
       "      <td>E</td>\n",
       "    </tr>\n",
       "    <tr>\n",
       "      <th>218</th>\n",
       "      <td>17094607</td>\n",
       "      <td>ZINN</td>\n",
       "      <td>A</td>\n",
       "      <td>74.00</td>\n",
       "      <td>E</td>\n",
       "    </tr>\n",
       "  </tbody>\n",
       "</table>\n",
       "<p>675 rows × 5 columns</p>\n",
       "</div>"
      ],
      "text/plain": [
       "     Student number                         Surname    Initials  Final mark  \\\n",
       "0          15476227                          AFONSO           L       47.72   \n",
       "1          15311279                        ALBERTYN       F J H       57.52   \n",
       "2          15637913                       ALEXANDER           L       90.68   \n",
       "3          15124150                             BAM         A J       56.43   \n",
       "4          15829626                          BARROW         S B       79.64   \n",
       "..              ...                             ...         ...         ...   \n",
       "214        16443144  WIJERS                          MC               93.00   \n",
       "215        14955849  WIJNBERG                        JM               47.00   \n",
       "216        17140293  WILLIAMS                        CA               43.00   \n",
       "217        16771354  WOLHUTER                        J                76.00   \n",
       "218        17094607  ZINN                            A                74.00   \n",
       "\n",
       "    Class  \n",
       "0       E  \n",
       "1       A  \n",
       "2       E  \n",
       "3       E  \n",
       "4       E  \n",
       "..    ...  \n",
       "214     E  \n",
       "215     E  \n",
       "216     A  \n",
       "217     E  \n",
       "218     E  \n",
       "\n",
       "[675 rows x 5 columns]"
      ]
     },
     "execution_count": 18,
     "metadata": {},
     "output_type": "execute_result"
    }
   ],
   "source": [
    "# Concatenate class list ab and cd as final\n",
    "\n",
    "# Concat class lists a and b\n",
    "\n",
    "classlist= pd.concat([classlist_ab, classlist_cd])\n",
    "\n",
    "# View the DataFrame. \n",
    "print((classlist.shape))\n",
    "classlist\n"
   ]
  },
  {
   "cell_type": "markdown",
   "id": "cf2c9bc6",
   "metadata": {},
   "source": [
    "# 3.1.3 -Combining data sets with merge()  "
   ]
  },
  {
   "cell_type": "code",
   "execution_count": 19,
   "id": "ba1f9f3b",
   "metadata": {},
   "outputs": [
    {
     "data": {
      "text/html": [
       "<div>\n",
       "<style scoped>\n",
       "    .dataframe tbody tr th:only-of-type {\n",
       "        vertical-align: middle;\n",
       "    }\n",
       "\n",
       "    .dataframe tbody tr th {\n",
       "        vertical-align: top;\n",
       "    }\n",
       "\n",
       "    .dataframe thead th {\n",
       "        text-align: right;\n",
       "    }\n",
       "</style>\n",
       "<table border=\"1\" class=\"dataframe\">\n",
       "  <thead>\n",
       "    <tr style=\"text-align: right;\">\n",
       "      <th></th>\n",
       "      <th>VW</th>\n",
       "      <th>Toyota</th>\n",
       "      <th>Honda</th>\n",
       "      <th>BMW</th>\n",
       "    </tr>\n",
       "  </thead>\n",
       "  <tbody>\n",
       "    <tr>\n",
       "      <th>0</th>\n",
       "      <td>Polo</td>\n",
       "      <td>Agya</td>\n",
       "      <td>Brio</td>\n",
       "      <td>BMW1</td>\n",
       "    </tr>\n",
       "    <tr>\n",
       "      <th>1</th>\n",
       "      <td>T-Cross</td>\n",
       "      <td>Corolla</td>\n",
       "      <td>Jazz</td>\n",
       "      <td>BMW2</td>\n",
       "    </tr>\n",
       "    <tr>\n",
       "      <th>2</th>\n",
       "      <td>Tiguan</td>\n",
       "      <td>Rav4</td>\n",
       "      <td>HRV</td>\n",
       "      <td>BMW3</td>\n",
       "    </tr>\n",
       "    <tr>\n",
       "      <th>3</th>\n",
       "      <td>Toureg</td>\n",
       "      <td>Land Cruiser</td>\n",
       "      <td>CRV</td>\n",
       "      <td>BMW4</td>\n",
       "    </tr>\n",
       "  </tbody>\n",
       "</table>\n",
       "</div>"
      ],
      "text/plain": [
       "        VW        Toyota Honda   BMW\n",
       "0     Polo          Agya  Brio  BMW1\n",
       "1  T-Cross       Corolla  Jazz  BMW2\n",
       "2   Tiguan          Rav4   HRV  BMW3\n",
       "3   Toureg  Land Cruiser   CRV  BMW4"
      ]
     },
     "execution_count": 19,
     "metadata": {},
     "output_type": "execute_result"
    }
   ],
   "source": [
    "# Create the Cars Models DataFrame\n",
    "\n",
    "# Create a DataFrame.\n",
    "cars_3 = pd.DataFrame({'VW': ['Polo', 'T-Cross', 'Tiguan', 'Toureg'],\n",
    "                       'Toyota': ['Agya', 'Corolla', 'Rav4', 'Land Cruiser'],\n",
    "                       'Honda': ['Brio', 'Jazz', 'HRV', 'CRV'], \n",
    "                       'BMW': ['BMW1', 'BMW2', 'BMW3', 'BMW4']}, \n",
    "                      index=[0, 1, 2, 3])\n",
    "\n",
    "# View the DataFrame.\n",
    "cars_3"
   ]
  },
  {
   "cell_type": "code",
   "execution_count": 20,
   "id": "41880e3b",
   "metadata": {},
   "outputs": [
    {
     "data": {
      "text/html": [
       "<div>\n",
       "<style scoped>\n",
       "    .dataframe tbody tr th:only-of-type {\n",
       "        vertical-align: middle;\n",
       "    }\n",
       "\n",
       "    .dataframe tbody tr th {\n",
       "        vertical-align: top;\n",
       "    }\n",
       "\n",
       "    .dataframe thead th {\n",
       "        text-align: right;\n",
       "    }\n",
       "</style>\n",
       "<table border=\"1\" class=\"dataframe\">\n",
       "  <thead>\n",
       "    <tr style=\"text-align: right;\">\n",
       "      <th></th>\n",
       "      <th>VW</th>\n",
       "      <th>Toyota</th>\n",
       "      <th>Honda</th>\n",
       "      <th>BMW</th>\n",
       "    </tr>\n",
       "  </thead>\n",
       "  <tbody>\n",
       "    <tr>\n",
       "      <th>0</th>\n",
       "      <td>-</td>\n",
       "      <td>-</td>\n",
       "      <td>Shine</td>\n",
       "      <td>Sport</td>\n",
       "    </tr>\n",
       "    <tr>\n",
       "      <th>1</th>\n",
       "      <td>-</td>\n",
       "      <td>-</td>\n",
       "      <td>Activa</td>\n",
       "      <td>Roadster</td>\n",
       "    </tr>\n",
       "    <tr>\n",
       "      <th>2</th>\n",
       "      <td>-</td>\n",
       "      <td>-</td>\n",
       "      <td>Comfort Travel</td>\n",
       "      <td>Heritage</td>\n",
       "    </tr>\n",
       "    <tr>\n",
       "      <th>3</th>\n",
       "      <td>-</td>\n",
       "      <td>-</td>\n",
       "      <td>Adventure Sport</td>\n",
       "      <td>Adventure</td>\n",
       "    </tr>\n",
       "  </tbody>\n",
       "</table>\n",
       "</div>"
      ],
      "text/plain": [
       "  VW Toyota            Honda        BMW\n",
       "0  -      -            Shine      Sport\n",
       "1  -      -           Activa   Roadster\n",
       "2  -      -   Comfort Travel   Heritage\n",
       "3  -      -  Adventure Sport  Adventure"
      ]
     },
     "execution_count": 20,
     "metadata": {},
     "output_type": "execute_result"
    }
   ],
   "source": [
    "# Create the motorcycle models DataFrame\n",
    "# Create a DataFrame.\n",
    "motorcycles_3 = pd.DataFrame({'VW': ['-', '-', '-', '-'],\n",
    "                              'Toyota': ['-', '-', '-', '-'],\n",
    "                              'Honda': ['Shine', 'Activa',\n",
    "                                        'Comfort Travel',\n",
    "                                        'Adventure Sport'], \n",
    "                              'BMW': ['Sport', 'Roadster',\n",
    "                                      'Heritage', 'Adventure']}, \n",
    "                             index=[0, 1, 2, 3])\n",
    "\n",
    "# View the DataFrame.\n",
    "motorcycles_3"
   ]
  },
  {
   "cell_type": "code",
   "execution_count": 24,
   "id": "5ee35abf",
   "metadata": {},
   "outputs": [
    {
     "data": {
      "text/html": [
       "<div>\n",
       "<style scoped>\n",
       "    .dataframe tbody tr th:only-of-type {\n",
       "        vertical-align: middle;\n",
       "    }\n",
       "\n",
       "    .dataframe tbody tr th {\n",
       "        vertical-align: top;\n",
       "    }\n",
       "\n",
       "    .dataframe thead th {\n",
       "        text-align: right;\n",
       "    }\n",
       "</style>\n",
       "<table border=\"1\" class=\"dataframe\">\n",
       "  <thead>\n",
       "    <tr style=\"text-align: right;\">\n",
       "      <th></th>\n",
       "      <th>VW</th>\n",
       "      <th>Toyota</th>\n",
       "      <th>Honda</th>\n",
       "      <th>BMW</th>\n",
       "    </tr>\n",
       "  </thead>\n",
       "  <tbody>\n",
       "  </tbody>\n",
       "</table>\n",
       "</div>"
      ],
      "text/plain": [
       "Empty DataFrame\n",
       "Columns: [VW, Toyota, Honda, BMW]\n",
       "Index: []"
      ]
     },
     "execution_count": 24,
     "metadata": {},
     "output_type": "execute_result"
    }
   ],
   "source": [
    "# Merge the two DataFrames\n",
    "\n",
    "# Merge the DataFrames.\n",
    "products_3 = pd.merge(cars_3, motorcycles_3)\n",
    "\n",
    "# View the DataFrame.\n",
    "products_3"
   ]
  },
  {
   "cell_type": "markdown",
   "id": "137b770e",
   "metadata": {},
   "source": [
    "# 3.1.6 - The groupby() function"
   ]
  },
  {
   "cell_type": "markdown",
   "id": "16f5198c",
   "metadata": {},
   "source": [
    "# GroupBy syntax \n",
    "\n",
    "df.groupby(\n",
    "    by='None', \n",
    "    axis= 0, \n",
    "    level='None', \n",
    "    as_index='True', \n",
    "    sort='True', \n",
    "    group_keys='True', \n",
    "    squeeze='False')"
   ]
  },
  {
   "cell_type": "code",
   "execution_count": 25,
   "id": "ea743cd9",
   "metadata": {},
   "outputs": [
    {
     "data": {
      "text/plain": [
       "'The splitting criteria are sometimes called groupby mapping. \\nThis refers to the abstract definition of grouping, which is to provide a mapping of labels to group names. \\nYou can specify splitting criteria in many different ways, for example:\\n\\na Python function called on each axis label (rows when axis=0 and columns when axis=1)\\nfor DataFrame objects, a string indicating a column or list of column names for grouping\\na list or NumPy array of the same length as the selected axis\\na dictionary or series that provides a label for group name mapping.'"
      ]
     },
     "execution_count": 25,
     "metadata": {},
     "output_type": "execute_result"
    }
   ],
   "source": [
    "\"\"\"The splitting criteria are sometimes called groupby mapping. \n",
    "This refers to the abstract definition of grouping, which is to provide a mapping of labels to group names. \n",
    "You can specify splitting criteria in many different ways, for example:\n",
    "\n",
    "a Python function called on each axis label (rows when axis=0 and columns when axis=1)\n",
    "for DataFrame objects, a string indicating a column or list of column names for grouping\n",
    "a list or NumPy array of the same length as the selected axis\n",
    "a dictionary or series that provides a label for group name mapping.\"\"\"\n"
   ]
  },
  {
   "cell_type": "code",
   "execution_count": 27,
   "id": "04965964",
   "metadata": {},
   "outputs": [
    {
     "name": "stdout",
     "output_type": "stream",
     "text": [
      "(145, 5)\n",
      "(126, 5)\n",
      "(185, 5)\n",
      "(219, 5)\n"
     ]
    }
   ],
   "source": [
    "# Apply the split-apply-combine method\n",
    "\n",
    "classlist_a = pd.read_csv('classlist_a.csv')\n",
    "classlist_b = pd.read_csv('classlist_b.csv')\n",
    "classlist_c = pd.read_csv('classlist_c.csv')\n",
    "classlist_d = pd.read_csv('classlist_d.csv')\n",
    "\n",
    "print(classlist_a.shape)\n",
    "print(classlist_b.shape)\n",
    "print(classlist_c.shape)\n",
    "print(classlist_d.shape)"
   ]
  },
  {
   "cell_type": "code",
   "execution_count": 30,
   "id": "f799e199",
   "metadata": {},
   "outputs": [
    {
     "data": {
      "text/plain": [
       "(675, 5)"
      ]
     },
     "execution_count": 30,
     "metadata": {},
     "output_type": "execute_result"
    }
   ],
   "source": [
    "classlist_final = pd.concat([classlist_a, classlist_b, classlist_c, classlist_d])\n",
    "\n",
    "classlist_final.shape"
   ]
  },
  {
   "cell_type": "code",
   "execution_count": 33,
   "id": "ce402af9",
   "metadata": {},
   "outputs": [
    {
     "data": {
      "text/plain": [
       "<pandas.core.groupby.generic.DataFrameGroupBy object at 0x7f7afa206ce0>"
      ]
     },
     "execution_count": 33,
     "metadata": {},
     "output_type": "execute_result"
    }
   ],
   "source": [
    "group_surname = classlist_final.groupby('Surname')\n",
    "\n",
    "group_surname"
   ]
  },
  {
   "cell_type": "code",
   "execution_count": 34,
   "id": "00d335b6",
   "metadata": {},
   "outputs": [
    {
     "data": {
      "text/plain": [
       "<pandas.core.groupby.generic.DataFrameGroupBy object at 0x7f7afa206b30>"
      ]
     },
     "execution_count": 34,
     "metadata": {},
     "output_type": "execute_result"
    }
   ],
   "source": [
    "group_marks = classlist_final.groupby('Final mark')\n",
    "\n",
    "group_marks"
   ]
  },
  {
   "cell_type": "code",
   "execution_count": 36,
   "id": "f598bd14",
   "metadata": {},
   "outputs": [
    {
     "data": {
      "text/plain": [
       "<pandas.core.groupby.generic.DataFrameGroupBy object at 0x7f7afe47c6a0>"
      ]
     },
     "execution_count": 36,
     "metadata": {},
     "output_type": "execute_result"
    }
   ],
   "source": [
    "group_surname_marks =classlist_final.groupby(['Surname', 'Final mark'])\n",
    "\n",
    "group_surname_marks"
   ]
  },
  {
   "cell_type": "code",
   "execution_count": 37,
   "id": "160c437b",
   "metadata": {},
   "outputs": [
    {
     "name": "stderr",
     "output_type": "stream",
     "text": [
      "/var/folders/cn/47qy272s11q7_n4t9zj37np40000gn/T/ipykernel_1403/2456167051.py:3: FutureWarning: The default value of numeric_only in DataFrameGroupBy.sum is deprecated. In a future version, numeric_only will default to False. Either specify numeric_only or select only columns which should be valid for the function.\n",
      "  group_surname_marks.sum()\n"
     ]
    },
    {
     "data": {
      "text/html": [
       "<div>\n",
       "<style scoped>\n",
       "    .dataframe tbody tr th:only-of-type {\n",
       "        vertical-align: middle;\n",
       "    }\n",
       "\n",
       "    .dataframe tbody tr th {\n",
       "        vertical-align: top;\n",
       "    }\n",
       "\n",
       "    .dataframe thead th {\n",
       "        text-align: right;\n",
       "    }\n",
       "</style>\n",
       "<table border=\"1\" class=\"dataframe\">\n",
       "  <thead>\n",
       "    <tr style=\"text-align: right;\">\n",
       "      <th></th>\n",
       "      <th></th>\n",
       "      <th>Student number</th>\n",
       "    </tr>\n",
       "    <tr>\n",
       "      <th>Surname</th>\n",
       "      <th>Final mark</th>\n",
       "      <th></th>\n",
       "    </tr>\n",
       "  </thead>\n",
       "  <tbody>\n",
       "    <tr>\n",
       "      <th>ABRAHAMS</th>\n",
       "      <th>48.00</th>\n",
       "      <td>15793648</td>\n",
       "    </tr>\n",
       "    <tr>\n",
       "      <th>ACKERMANN</th>\n",
       "      <th>45.00</th>\n",
       "      <td>17483638</td>\n",
       "    </tr>\n",
       "    <tr>\n",
       "      <th>ADENDORFF</th>\n",
       "      <th>76.50</th>\n",
       "      <td>15849376</td>\n",
       "    </tr>\n",
       "    <tr>\n",
       "      <th>AFONSO</th>\n",
       "      <th>47.72</th>\n",
       "      <td>15476227</td>\n",
       "    </tr>\n",
       "    <tr>\n",
       "      <th>ALBERTUS</th>\n",
       "      <th>57.00</th>\n",
       "      <td>16564499</td>\n",
       "    </tr>\n",
       "    <tr>\n",
       "      <th>...</th>\n",
       "      <th>...</th>\n",
       "      <td>...</td>\n",
       "    </tr>\n",
       "    <tr>\n",
       "      <th>YOUNG</th>\n",
       "      <th>88.05</th>\n",
       "      <td>15849390</td>\n",
       "    </tr>\n",
       "    <tr>\n",
       "      <th>ZINN</th>\n",
       "      <th>74.00</th>\n",
       "      <td>17094607</td>\n",
       "    </tr>\n",
       "    <tr>\n",
       "      <th>ZONDAGH</th>\n",
       "      <th>59.10</th>\n",
       "      <td>15897184</td>\n",
       "    </tr>\n",
       "    <tr>\n",
       "      <th>ZONDI</th>\n",
       "      <th>74.46</th>\n",
       "      <td>16324773</td>\n",
       "    </tr>\n",
       "    <tr>\n",
       "      <th>ZUMA</th>\n",
       "      <th>64.50</th>\n",
       "      <td>16782879</td>\n",
       "    </tr>\n",
       "  </tbody>\n",
       "</table>\n",
       "<p>673 rows × 1 columns</p>\n",
       "</div>"
      ],
      "text/plain": [
       "                                           Student number\n",
       "Surname                        Final mark                \n",
       "ABRAHAMS                       48.00             15793648\n",
       "ACKERMANN                      45.00             17483638\n",
       "ADENDORFF                      76.50             15849376\n",
       "AFONSO                         47.72             15476227\n",
       "ALBERTUS                       57.00             16564499\n",
       "...                                                   ...\n",
       "YOUNG                          88.05             15849390\n",
       "ZINN                           74.00             17094607\n",
       "ZONDAGH                        59.10             15897184\n",
       "ZONDI                          74.46             16324773\n",
       "ZUMA                           64.50             16782879\n",
       "\n",
       "[673 rows x 1 columns]"
      ]
     },
     "execution_count": 37,
     "metadata": {},
     "output_type": "execute_result"
    }
   ],
   "source": [
    "# Sum method into groupby()\n",
    "\n",
    "group_surname_marks.sum()"
   ]
  },
  {
   "cell_type": "code",
   "execution_count": 38,
   "id": "863d1bfe",
   "metadata": {},
   "outputs": [
    {
     "data": {
      "text/plain": [
       "Surname                         Final mark\n",
       "ABRAHAMS                        48.00         1\n",
       "ACKERMANN                       45.00         1\n",
       "ADENDORFF                       76.50         1\n",
       "AFONSO                          47.72         1\n",
       "ALBERTUS                        57.00         1\n",
       "                                             ..\n",
       "YOUNG                           88.05         1\n",
       "ZINN                            74.00         1\n",
       "ZONDAGH                         59.10         1\n",
       "ZONDI                           74.46         1\n",
       "ZUMA                            64.50         1\n",
       "Length: 673, dtype: int64"
      ]
     },
     "execution_count": 38,
     "metadata": {},
     "output_type": "execute_result"
    }
   ],
   "source": [
    "group_surname_marks.size()"
   ]
  },
  {
   "cell_type": "code",
   "execution_count": 39,
   "id": "46498ddc",
   "metadata": {},
   "outputs": [
    {
     "data": {
      "text/plain": [
       "Surname\n",
       "ABRAHAMS                          1\n",
       "ACKERMANN                         1\n",
       "ADENDORFF                         1\n",
       "AFONSO                            1\n",
       "ALBERTUS                          1\n",
       "                                 ..\n",
       "YOUNG                             1\n",
       "ZINN                              1\n",
       "ZONDAGH                           1\n",
       "ZONDI                             1\n",
       "ZUMA                              1\n",
       "Length: 534, dtype: int64"
      ]
     },
     "execution_count": 39,
     "metadata": {},
     "output_type": "execute_result"
    }
   ],
   "source": [
    "group_surname.size()"
   ]
  },
  {
   "cell_type": "code",
   "execution_count": 40,
   "id": "8e1fcaa9",
   "metadata": {},
   "outputs": [
    {
     "data": {
      "text/plain": [
       "Surname                         Initials  \n",
       "ABRAHAMS                        B             1\n",
       "ACKERMANN                       E             1\n",
       "ADENDORFF                       K             1\n",
       "AFONSO                          L             1\n",
       "ALBERTUS                        S             1\n",
       "                                             ..\n",
       "YOUNG                           V A           1\n",
       "ZINN                            A             1\n",
       "ZONDAGH                         L             1\n",
       "ZONDI                           WP            1\n",
       "ZUMA                            MC            1\n",
       "Length: 666, dtype: int64"
      ]
     },
     "execution_count": 40,
     "metadata": {},
     "output_type": "execute_result"
    }
   ],
   "source": [
    "group_initials = classlist_final.groupby('Initials')\n",
    "\n",
    "group_surname_initials = classlist_final.groupby(['Surname', 'Initials'])\n",
    "\n",
    "group_surname_initials.size()"
   ]
  },
  {
   "cell_type": "code",
   "execution_count": 41,
   "id": "d48b36c5",
   "metadata": {},
   "outputs": [
    {
     "data": {
      "text/html": [
       "<div>\n",
       "<style scoped>\n",
       "    .dataframe tbody tr th:only-of-type {\n",
       "        vertical-align: middle;\n",
       "    }\n",
       "\n",
       "    .dataframe tbody tr th {\n",
       "        vertical-align: top;\n",
       "    }\n",
       "\n",
       "    .dataframe thead th {\n",
       "        text-align: right;\n",
       "    }\n",
       "</style>\n",
       "<table border=\"1\" class=\"dataframe\">\n",
       "  <thead>\n",
       "    <tr style=\"text-align: right;\">\n",
       "      <th></th>\n",
       "      <th></th>\n",
       "      <th>Student number</th>\n",
       "      <th>Final mark</th>\n",
       "      <th>Class</th>\n",
       "    </tr>\n",
       "    <tr>\n",
       "      <th>Surname</th>\n",
       "      <th>Initials</th>\n",
       "      <th></th>\n",
       "      <th></th>\n",
       "      <th></th>\n",
       "    </tr>\n",
       "  </thead>\n",
       "  <tbody>\n",
       "    <tr>\n",
       "      <th>ABRAHAMS</th>\n",
       "      <th>B</th>\n",
       "      <td>1</td>\n",
       "      <td>1</td>\n",
       "      <td>1</td>\n",
       "    </tr>\n",
       "    <tr>\n",
       "      <th>ACKERMANN</th>\n",
       "      <th>E</th>\n",
       "      <td>1</td>\n",
       "      <td>1</td>\n",
       "      <td>1</td>\n",
       "    </tr>\n",
       "    <tr>\n",
       "      <th>ADENDORFF</th>\n",
       "      <th>K</th>\n",
       "      <td>1</td>\n",
       "      <td>1</td>\n",
       "      <td>1</td>\n",
       "    </tr>\n",
       "    <tr>\n",
       "      <th>AFONSO</th>\n",
       "      <th>L</th>\n",
       "      <td>1</td>\n",
       "      <td>1</td>\n",
       "      <td>1</td>\n",
       "    </tr>\n",
       "    <tr>\n",
       "      <th>ALBERTUS</th>\n",
       "      <th>S</th>\n",
       "      <td>1</td>\n",
       "      <td>1</td>\n",
       "      <td>1</td>\n",
       "    </tr>\n",
       "    <tr>\n",
       "      <th>...</th>\n",
       "      <th>...</th>\n",
       "      <td>...</td>\n",
       "      <td>...</td>\n",
       "      <td>...</td>\n",
       "    </tr>\n",
       "    <tr>\n",
       "      <th>YOUNG</th>\n",
       "      <th>V A</th>\n",
       "      <td>1</td>\n",
       "      <td>1</td>\n",
       "      <td>1</td>\n",
       "    </tr>\n",
       "    <tr>\n",
       "      <th>ZINN</th>\n",
       "      <th>A</th>\n",
       "      <td>1</td>\n",
       "      <td>1</td>\n",
       "      <td>1</td>\n",
       "    </tr>\n",
       "    <tr>\n",
       "      <th>ZONDAGH</th>\n",
       "      <th>L</th>\n",
       "      <td>1</td>\n",
       "      <td>1</td>\n",
       "      <td>1</td>\n",
       "    </tr>\n",
       "    <tr>\n",
       "      <th>ZONDI</th>\n",
       "      <th>WP</th>\n",
       "      <td>1</td>\n",
       "      <td>1</td>\n",
       "      <td>1</td>\n",
       "    </tr>\n",
       "    <tr>\n",
       "      <th>ZUMA</th>\n",
       "      <th>MC</th>\n",
       "      <td>1</td>\n",
       "      <td>1</td>\n",
       "      <td>1</td>\n",
       "    </tr>\n",
       "  </tbody>\n",
       "</table>\n",
       "<p>666 rows × 3 columns</p>\n",
       "</div>"
      ],
      "text/plain": [
       "                                           Student number  Final mark  Class\n",
       "Surname                        Initials                                     \n",
       "ABRAHAMS                       B                        1           1      1\n",
       "ACKERMANN                      E                        1           1      1\n",
       "ADENDORFF                      K                        1           1      1\n",
       "AFONSO                         L                        1           1      1\n",
       "ALBERTUS                       S                        1           1      1\n",
       "...                                                   ...         ...    ...\n",
       "YOUNG                          V A                      1           1      1\n",
       "ZINN                           A                        1           1      1\n",
       "ZONDAGH                        L                        1           1      1\n",
       "ZONDI                          WP                       1           1      1\n",
       "ZUMA                           MC                       1           1      1\n",
       "\n",
       "[666 rows x 3 columns]"
      ]
     },
     "execution_count": 41,
     "metadata": {},
     "output_type": "execute_result"
    }
   ],
   "source": [
    "group_surname_initials.count()"
   ]
  },
  {
   "cell_type": "code",
   "execution_count": 42,
   "id": "f38d4ec5",
   "metadata": {},
   "outputs": [
    {
     "data": {
      "text/plain": [
       "Surname                         Initials  \n",
       "ABRAHAMS                        B             1\n",
       "ACKERMANN                       E             1\n",
       "ADENDORFF                       K             1\n",
       "AFONSO                          L             1\n",
       "ALBERTUS                        S             1\n",
       "                                             ..\n",
       "YOUNG                           V A           1\n",
       "ZINN                            A             1\n",
       "ZONDAGH                         L             1\n",
       "ZONDI                           WP            1\n",
       "ZUMA                            MC            1\n",
       "Length: 666, dtype: int64"
      ]
     },
     "execution_count": 42,
     "metadata": {},
     "output_type": "execute_result"
    }
   ],
   "source": [
    "group_initials = classlist_final.groupby('Initials')\n",
    "\n",
    "group_surname_initials = classlist_final.groupby(['Surname', 'Initials'])\n",
    "\n",
    "group_surname_initials.size()"
   ]
  },
  {
   "cell_type": "markdown",
   "id": "d7c85d18",
   "metadata": {},
   "source": [
    "# 3.2.1 - Map function()\n",
    "\n",
    "Application of the map() function\n",
    "Prof. Minnaar added another column to the class lists. Each of the four class lists now has five columns (Student number, Surname, Initials, Final mark and Class). The Class column represents the building in which the lectures are taking place (A for Annex and E for Exhibition Hall).\n",
    "\n",
    "Follow the demonstration video to help Prof. Minnaar in her search for answers. Most of the code snippets will seem familiar to you. This is part of the process to understand that Python code snippets should not be used in silos, but rather weaved into the storytelling.\n",
    "\n",
    "Prof. Minnaar needs to transform the class list according to the University's database. Therefore, she has two requests:\n",
    "\n",
    "She wants the Class column to be changed from a string to an integer. For example, the A and E should be replaced with 1 and 0. \n",
    "The column Final mark needs to be renamed to Final_mark. "
   ]
  },
  {
   "cell_type": "code",
   "execution_count": 6,
   "id": "38e46721",
   "metadata": {},
   "outputs": [
    {
     "data": {
      "text/html": [
       "<div>\n",
       "<style scoped>\n",
       "    .dataframe tbody tr th:only-of-type {\n",
       "        vertical-align: middle;\n",
       "    }\n",
       "\n",
       "    .dataframe tbody tr th {\n",
       "        vertical-align: top;\n",
       "    }\n",
       "\n",
       "    .dataframe thead th {\n",
       "        text-align: right;\n",
       "    }\n",
       "</style>\n",
       "<table border=\"1\" class=\"dataframe\">\n",
       "  <thead>\n",
       "    <tr style=\"text-align: right;\">\n",
       "      <th></th>\n",
       "      <th>Student number</th>\n",
       "      <th>Surname</th>\n",
       "      <th>Initials</th>\n",
       "      <th>Final mark</th>\n",
       "      <th>Class</th>\n",
       "    </tr>\n",
       "  </thead>\n",
       "  <tbody>\n",
       "    <tr>\n",
       "      <th>0</th>\n",
       "      <td>15476227</td>\n",
       "      <td>AFONSO</td>\n",
       "      <td>L</td>\n",
       "      <td>47.72</td>\n",
       "      <td>E</td>\n",
       "    </tr>\n",
       "    <tr>\n",
       "      <th>1</th>\n",
       "      <td>15311279</td>\n",
       "      <td>ALBERTYN</td>\n",
       "      <td>F J H</td>\n",
       "      <td>57.52</td>\n",
       "      <td>A</td>\n",
       "    </tr>\n",
       "    <tr>\n",
       "      <th>2</th>\n",
       "      <td>15637913</td>\n",
       "      <td>ALEXANDER</td>\n",
       "      <td>L</td>\n",
       "      <td>90.68</td>\n",
       "      <td>E</td>\n",
       "    </tr>\n",
       "    <tr>\n",
       "      <th>3</th>\n",
       "      <td>15124150</td>\n",
       "      <td>BAM</td>\n",
       "      <td>A J</td>\n",
       "      <td>56.43</td>\n",
       "      <td>E</td>\n",
       "    </tr>\n",
       "    <tr>\n",
       "      <th>4</th>\n",
       "      <td>15829626</td>\n",
       "      <td>BARROW</td>\n",
       "      <td>S B</td>\n",
       "      <td>79.64</td>\n",
       "      <td>E</td>\n",
       "    </tr>\n",
       "    <tr>\n",
       "      <th>...</th>\n",
       "      <td>...</td>\n",
       "      <td>...</td>\n",
       "      <td>...</td>\n",
       "      <td>...</td>\n",
       "      <td>...</td>\n",
       "    </tr>\n",
       "    <tr>\n",
       "      <th>214</th>\n",
       "      <td>16443144</td>\n",
       "      <td>WIJERS</td>\n",
       "      <td>MC</td>\n",
       "      <td>93.00</td>\n",
       "      <td>E</td>\n",
       "    </tr>\n",
       "    <tr>\n",
       "      <th>215</th>\n",
       "      <td>14955849</td>\n",
       "      <td>WIJNBERG</td>\n",
       "      <td>JM</td>\n",
       "      <td>47.00</td>\n",
       "      <td>E</td>\n",
       "    </tr>\n",
       "    <tr>\n",
       "      <th>216</th>\n",
       "      <td>17140293</td>\n",
       "      <td>WILLIAMS</td>\n",
       "      <td>CA</td>\n",
       "      <td>43.00</td>\n",
       "      <td>A</td>\n",
       "    </tr>\n",
       "    <tr>\n",
       "      <th>217</th>\n",
       "      <td>16771354</td>\n",
       "      <td>WOLHUTER</td>\n",
       "      <td>J</td>\n",
       "      <td>76.00</td>\n",
       "      <td>E</td>\n",
       "    </tr>\n",
       "    <tr>\n",
       "      <th>218</th>\n",
       "      <td>17094607</td>\n",
       "      <td>ZINN</td>\n",
       "      <td>A</td>\n",
       "      <td>74.00</td>\n",
       "      <td>E</td>\n",
       "    </tr>\n",
       "  </tbody>\n",
       "</table>\n",
       "<p>675 rows × 5 columns</p>\n",
       "</div>"
      ],
      "text/plain": [
       "     Student number                         Surname    Initials  Final mark  \\\n",
       "0          15476227                          AFONSO           L       47.72   \n",
       "1          15311279                        ALBERTYN       F J H       57.52   \n",
       "2          15637913                       ALEXANDER           L       90.68   \n",
       "3          15124150                             BAM         A J       56.43   \n",
       "4          15829626                          BARROW         S B       79.64   \n",
       "..              ...                             ...         ...         ...   \n",
       "214        16443144  WIJERS                          MC               93.00   \n",
       "215        14955849  WIJNBERG                        JM               47.00   \n",
       "216        17140293  WILLIAMS                        CA               43.00   \n",
       "217        16771354  WOLHUTER                        J                76.00   \n",
       "218        17094607  ZINN                            A                74.00   \n",
       "\n",
       "    Class  \n",
       "0       E  \n",
       "1       A  \n",
       "2       E  \n",
       "3       E  \n",
       "4       E  \n",
       "..    ...  \n",
       "214     E  \n",
       "215     E  \n",
       "216     A  \n",
       "217     E  \n",
       "218     E  \n",
       "\n",
       "[675 rows x 5 columns]"
      ]
     },
     "execution_count": 6,
     "metadata": {},
     "output_type": "execute_result"
    }
   ],
   "source": [
    "\n",
    "classlist_a = pd.read_csv('classlist_a.csv')\n",
    "classlist_b = pd.read_csv('classlist_b.csv')\n",
    "classlist_c = pd.read_csv('classlist_c.csv')\n",
    "classlist_d = pd.read_csv('classlist_d.csv')\n",
    "\n",
    "classlist = pd.concat([classlist_a, classlist_b, classlist_c, classlist_d])\n",
    "classlist"
   ]
  },
  {
   "cell_type": "code",
   "execution_count": 7,
   "id": "f613ed51",
   "metadata": {},
   "outputs": [
    {
     "name": "stdout",
     "output_type": "stream",
     "text": [
      "(675, 5)\n",
      "Index(['Student number', 'Surname', 'Initials', 'Final mark', 'Class'], dtype='object')\n",
      "Student number      int64\n",
      "Surname            object\n",
      "Initials           object\n",
      "Final mark        float64\n",
      "Class              object\n",
      "dtype: object\n"
     ]
    }
   ],
   "source": [
    "print(classlist.shape)\n",
    "print(classlist.columns)\n",
    "print(classlist.dtypes)"
   ]
  },
  {
   "cell_type": "code",
   "execution_count": 9,
   "id": "d1a04532",
   "metadata": {},
   "outputs": [
    {
     "name": "stdout",
     "output_type": "stream",
     "text": [
      "(675, 6)\n"
     ]
    },
    {
     "data": {
      "text/html": [
       "<div>\n",
       "<style scoped>\n",
       "    .dataframe tbody tr th:only-of-type {\n",
       "        vertical-align: middle;\n",
       "    }\n",
       "\n",
       "    .dataframe tbody tr th {\n",
       "        vertical-align: top;\n",
       "    }\n",
       "\n",
       "    .dataframe thead th {\n",
       "        text-align: right;\n",
       "    }\n",
       "</style>\n",
       "<table border=\"1\" class=\"dataframe\">\n",
       "  <thead>\n",
       "    <tr style=\"text-align: right;\">\n",
       "      <th></th>\n",
       "      <th>Student number</th>\n",
       "      <th>Surname</th>\n",
       "      <th>Initials</th>\n",
       "      <th>Final mark</th>\n",
       "      <th>Class</th>\n",
       "      <th>Class_num</th>\n",
       "    </tr>\n",
       "  </thead>\n",
       "  <tbody>\n",
       "    <tr>\n",
       "      <th>0</th>\n",
       "      <td>15476227</td>\n",
       "      <td>AFONSO</td>\n",
       "      <td>L</td>\n",
       "      <td>47.72</td>\n",
       "      <td>E</td>\n",
       "      <td>1</td>\n",
       "    </tr>\n",
       "    <tr>\n",
       "      <th>1</th>\n",
       "      <td>15311279</td>\n",
       "      <td>ALBERTYN</td>\n",
       "      <td>F J H</td>\n",
       "      <td>57.52</td>\n",
       "      <td>A</td>\n",
       "      <td>0</td>\n",
       "    </tr>\n",
       "    <tr>\n",
       "      <th>2</th>\n",
       "      <td>15637913</td>\n",
       "      <td>ALEXANDER</td>\n",
       "      <td>L</td>\n",
       "      <td>90.68</td>\n",
       "      <td>E</td>\n",
       "      <td>1</td>\n",
       "    </tr>\n",
       "    <tr>\n",
       "      <th>3</th>\n",
       "      <td>15124150</td>\n",
       "      <td>BAM</td>\n",
       "      <td>A J</td>\n",
       "      <td>56.43</td>\n",
       "      <td>E</td>\n",
       "      <td>1</td>\n",
       "    </tr>\n",
       "    <tr>\n",
       "      <th>4</th>\n",
       "      <td>15829626</td>\n",
       "      <td>BARROW</td>\n",
       "      <td>S B</td>\n",
       "      <td>79.64</td>\n",
       "      <td>E</td>\n",
       "      <td>1</td>\n",
       "    </tr>\n",
       "  </tbody>\n",
       "</table>\n",
       "</div>"
      ],
      "text/plain": [
       "   Student number    Surname Initials  Final mark Class  Class_num\n",
       "0        15476227     AFONSO        L       47.72     E          1\n",
       "1        15311279   ALBERTYN    F J H       57.52     A          0\n",
       "2        15637913  ALEXANDER        L       90.68     E          1\n",
       "3        15124150        BAM      A J       56.43     E          1\n",
       "4        15829626     BARROW      S B       79.64     E          1"
      ]
     },
     "execution_count": 9,
     "metadata": {},
     "output_type": "execute_result"
    }
   ],
   "source": [
    "# applying map function\n",
    "\n",
    "classlist['Class_num'] = classlist.Class.map({'A':0, 'E':1})\n",
    "\n",
    "print(classlist.shape)\n",
    "classlist.head()"
   ]
  },
  {
   "cell_type": "code",
   "execution_count": 11,
   "id": "7871f11a",
   "metadata": {},
   "outputs": [
    {
     "name": "stdout",
     "output_type": "stream",
     "text": [
      "    Class  Class_num\n",
      "0       E          1\n",
      "1       A          0\n",
      "2       E          1\n",
      "3       E          1\n",
      "4       E          1\n",
      "..    ...        ...\n",
      "214     E          1\n",
      "215     E          1\n",
      "216     A          0\n",
      "217     E          1\n",
      "218     E          1\n",
      "\n",
      "[675 rows x 2 columns]\n"
     ]
    },
    {
     "data": {
      "text/html": [
       "<div>\n",
       "<style scoped>\n",
       "    .dataframe tbody tr th:only-of-type {\n",
       "        vertical-align: middle;\n",
       "    }\n",
       "\n",
       "    .dataframe tbody tr th {\n",
       "        vertical-align: top;\n",
       "    }\n",
       "\n",
       "    .dataframe thead th {\n",
       "        text-align: right;\n",
       "    }\n",
       "</style>\n",
       "<table border=\"1\" class=\"dataframe\">\n",
       "  <thead>\n",
       "    <tr style=\"text-align: right;\">\n",
       "      <th></th>\n",
       "      <th>Class</th>\n",
       "      <th>Class_num</th>\n",
       "    </tr>\n",
       "  </thead>\n",
       "  <tbody>\n",
       "    <tr>\n",
       "      <th>0</th>\n",
       "      <td>E</td>\n",
       "      <td>1</td>\n",
       "    </tr>\n",
       "    <tr>\n",
       "      <th>1</th>\n",
       "      <td>A</td>\n",
       "      <td>0</td>\n",
       "    </tr>\n",
       "    <tr>\n",
       "      <th>2</th>\n",
       "      <td>E</td>\n",
       "      <td>1</td>\n",
       "    </tr>\n",
       "    <tr>\n",
       "      <th>3</th>\n",
       "      <td>E</td>\n",
       "      <td>1</td>\n",
       "    </tr>\n",
       "    <tr>\n",
       "      <th>4</th>\n",
       "      <td>E</td>\n",
       "      <td>1</td>\n",
       "    </tr>\n",
       "    <tr>\n",
       "      <th>...</th>\n",
       "      <td>...</td>\n",
       "      <td>...</td>\n",
       "    </tr>\n",
       "    <tr>\n",
       "      <th>214</th>\n",
       "      <td>E</td>\n",
       "      <td>1</td>\n",
       "    </tr>\n",
       "    <tr>\n",
       "      <th>215</th>\n",
       "      <td>E</td>\n",
       "      <td>1</td>\n",
       "    </tr>\n",
       "    <tr>\n",
       "      <th>216</th>\n",
       "      <td>A</td>\n",
       "      <td>0</td>\n",
       "    </tr>\n",
       "    <tr>\n",
       "      <th>217</th>\n",
       "      <td>E</td>\n",
       "      <td>1</td>\n",
       "    </tr>\n",
       "    <tr>\n",
       "      <th>218</th>\n",
       "      <td>E</td>\n",
       "      <td>1</td>\n",
       "    </tr>\n",
       "  </tbody>\n",
       "</table>\n",
       "<p>675 rows × 2 columns</p>\n",
       "</div>"
      ],
      "text/plain": [
       "    Class  Class_num\n",
       "0       E          1\n",
       "1       A          0\n",
       "2       E          1\n",
       "3       E          1\n",
       "4       E          1\n",
       "..    ...        ...\n",
       "214     E          1\n",
       "215     E          1\n",
       "216     A          0\n",
       "217     E          1\n",
       "218     E          1\n",
       "\n",
       "[675 rows x 2 columns]"
      ]
     },
     "execution_count": 11,
     "metadata": {},
     "output_type": "execute_result"
    }
   ],
   "source": [
    "# compare the two class functions using loc or iloc functions\n",
    "\n",
    "print(classlist.loc[:,['Class', 'Class_num']])\n",
    "\n",
    "classlist.iloc[:, 4:6]"
   ]
  },
  {
   "cell_type": "code",
   "execution_count": 18,
   "id": "cdd4eba2",
   "metadata": {},
   "outputs": [
    {
     "data": {
      "text/html": [
       "<div>\n",
       "<style scoped>\n",
       "    .dataframe tbody tr th:only-of-type {\n",
       "        vertical-align: middle;\n",
       "    }\n",
       "\n",
       "    .dataframe tbody tr th {\n",
       "        vertical-align: top;\n",
       "    }\n",
       "\n",
       "    .dataframe thead th {\n",
       "        text-align: right;\n",
       "    }\n",
       "</style>\n",
       "<table border=\"1\" class=\"dataframe\">\n",
       "  <thead>\n",
       "    <tr style=\"text-align: right;\">\n",
       "      <th></th>\n",
       "      <th>Student number</th>\n",
       "      <th>Surname</th>\n",
       "      <th>Initials</th>\n",
       "      <th>Final_mark</th>\n",
       "      <th>Class</th>\n",
       "      <th>Class_num</th>\n",
       "    </tr>\n",
       "  </thead>\n",
       "  <tbody>\n",
       "    <tr>\n",
       "      <th>0</th>\n",
       "      <td>15476227</td>\n",
       "      <td>AFONSO</td>\n",
       "      <td>L</td>\n",
       "      <td>47.72</td>\n",
       "      <td>E</td>\n",
       "      <td>1</td>\n",
       "    </tr>\n",
       "    <tr>\n",
       "      <th>1</th>\n",
       "      <td>15311279</td>\n",
       "      <td>ALBERTYN</td>\n",
       "      <td>F J H</td>\n",
       "      <td>57.52</td>\n",
       "      <td>A</td>\n",
       "      <td>0</td>\n",
       "    </tr>\n",
       "    <tr>\n",
       "      <th>2</th>\n",
       "      <td>15637913</td>\n",
       "      <td>ALEXANDER</td>\n",
       "      <td>L</td>\n",
       "      <td>90.68</td>\n",
       "      <td>E</td>\n",
       "      <td>1</td>\n",
       "    </tr>\n",
       "    <tr>\n",
       "      <th>3</th>\n",
       "      <td>15124150</td>\n",
       "      <td>BAM</td>\n",
       "      <td>A J</td>\n",
       "      <td>56.43</td>\n",
       "      <td>E</td>\n",
       "      <td>1</td>\n",
       "    </tr>\n",
       "    <tr>\n",
       "      <th>4</th>\n",
       "      <td>15829626</td>\n",
       "      <td>BARROW</td>\n",
       "      <td>S B</td>\n",
       "      <td>79.64</td>\n",
       "      <td>E</td>\n",
       "      <td>1</td>\n",
       "    </tr>\n",
       "  </tbody>\n",
       "</table>\n",
       "</div>"
      ],
      "text/plain": [
       "   Student number    Surname Initials  Final_mark Class  Class_num\n",
       "0        15476227     AFONSO        L       47.72     E          1\n",
       "1        15311279   ALBERTYN    F J H       57.52     A          0\n",
       "2        15637913  ALEXANDER        L       90.68     E          1\n",
       "3        15124150        BAM      A J       56.43     E          1\n",
       "4        15829626     BARROW      S B       79.64     E          1"
      ]
     },
     "execution_count": 18,
     "metadata": {},
     "output_type": "execute_result"
    }
   ],
   "source": [
    "# Change the name of the column\n",
    "\n",
    "classlist_final = classlist.rename(columns={'Final mark':'Final_mark'})\n",
    "\n",
    "classlist_final.head()"
   ]
  },
  {
   "cell_type": "code",
   "execution_count": 19,
   "id": "3f40f795",
   "metadata": {},
   "outputs": [
    {
     "data": {
      "text/plain": [
       "60.13431111111112"
      ]
     },
     "execution_count": 19,
     "metadata": {},
     "output_type": "execute_result"
    }
   ],
   "source": [
    "# Determine the average of Final_mark for the whole class list.\n",
    "classlist_final['Final_mark'].mean()"
   ]
  },
  {
   "cell_type": "markdown",
   "id": "2ff0578e",
   "metadata": {},
   "source": [
    "# Case study example\n",
    "\n",
    "Apply your learning\n",
    "The apply() method allows us to ‘apply’ a function to the rows or columns of a DataFrame. Arjun, an intern data analyst, is still assisting Mr Zachariou. Mr Zachariou asked Arjun to determine the average product price and sales quantity for transactions in 2010. Let’s investigate!"
   ]
  },
  {
   "cell_type": "code",
   "execution_count": 20,
   "id": "b927ffbd",
   "metadata": {},
   "outputs": [
    {
     "name": "stdout",
     "output_type": "stream",
     "text": [
      "(26850, 6)\n"
     ]
    },
    {
     "data": {
      "text/plain": [
       "Quantity     11.037691\n",
       "UnitPrice     3.205109\n",
       "dtype: float64"
      ]
     },
     "execution_count": 20,
     "metadata": {},
     "output_type": "execute_result"
    }
   ],
   "source": [
    "# Import the libraries.\n",
    "import pandas as pd\n",
    "import numpy as np\n",
    "\n",
    "# Read the CSV file from the current working directory.\n",
    "transactions_2010 = pd.read_csv('transactions_2010.csv')\n",
    "\n",
    "# View DataFrame.\n",
    "print(transactions_2010.shape)\n",
    "\n",
    "# Calculate the mean quantity and price.\n",
    "transactions_2010[['Quantity', 'UnitPrice']].apply(np.mean)"
   ]
  },
  {
   "cell_type": "markdown",
   "id": "4309e7f3",
   "metadata": {},
   "source": [
    "# Challenge!\n",
    "Try to answer the following question.\n",
    "\n",
    "Which year (2010 or 2011) was better for Mr Zachariou in terms of the number of products sold? (Hint: Calculate the average product price and sales quantity for transactions in 2011 as you did for 2010.)"
   ]
  },
  {
   "cell_type": "code",
   "execution_count": 21,
   "id": "e89bbd21",
   "metadata": {},
   "outputs": [
    {
     "name": "stdout",
     "output_type": "stream",
     "text": [
      "(379979, 6)\n"
     ]
    }
   ],
   "source": [
    "# Read the CSV file from the current working directory.\n",
    "transactions_2011 = pd.read_csv('transactions_2011.csv')\n",
    "\n",
    "# View DataFrame.\n",
    "print(transactions_2011.shape)"
   ]
  },
  {
   "cell_type": "code",
   "execution_count": 22,
   "id": "00734976",
   "metadata": {},
   "outputs": [
    {
     "data": {
      "text/plain": [
       "Quantity     12.133634\n",
       "UnitPrice     3.478515\n",
       "dtype: float64"
      ]
     },
     "execution_count": 22,
     "metadata": {},
     "output_type": "execute_result"
    }
   ],
   "source": [
    "# Calculate the mean quantity and price.\n",
    "transactions_2011[['Quantity', 'UnitPrice']].apply(np.mean)"
   ]
  },
  {
   "cell_type": "markdown",
   "id": "719df950",
   "metadata": {},
   "source": [
    "# 3.2.3 - applymap function "
   ]
  },
  {
   "cell_type": "code",
   "execution_count": 23,
   "id": "0ad1bb90",
   "metadata": {},
   "outputs": [
    {
     "name": "stdout",
     "output_type": "stream",
     "text": [
      "(193, 6)\n",
      "country                          object\n",
      "beer_servings                     int64\n",
      "spirit_servings                   int64\n",
      "wine_servings                     int64\n",
      "total_litres_of_pure_alcohol    float64\n",
      "continent                        object\n",
      "dtype: object\n"
     ]
    }
   ],
   "source": [
    "# Using imported file from website \n",
    "\n",
    "drinks = pd.read_csv('http://bit.ly/drinksbycountry')\n",
    "\n",
    "print(drinks.shape)\n",
    "print(drinks.dtypes)"
   ]
  },
  {
   "cell_type": "code",
   "execution_count": 25,
   "id": "bac4ea0c",
   "metadata": {},
   "outputs": [
    {
     "data": {
      "text/html": [
       "<div>\n",
       "<style scoped>\n",
       "    .dataframe tbody tr th:only-of-type {\n",
       "        vertical-align: middle;\n",
       "    }\n",
       "\n",
       "    .dataframe tbody tr th {\n",
       "        vertical-align: top;\n",
       "    }\n",
       "\n",
       "    .dataframe thead th {\n",
       "        text-align: right;\n",
       "    }\n",
       "</style>\n",
       "<table border=\"1\" class=\"dataframe\">\n",
       "  <thead>\n",
       "    <tr style=\"text-align: right;\">\n",
       "      <th></th>\n",
       "      <th>beer_servings</th>\n",
       "      <th>spirit_servings</th>\n",
       "      <th>wine_servings</th>\n",
       "    </tr>\n",
       "  </thead>\n",
       "  <tbody>\n",
       "    <tr>\n",
       "      <th>0</th>\n",
       "      <td>0.0</td>\n",
       "      <td>0.0</td>\n",
       "      <td>0.0</td>\n",
       "    </tr>\n",
       "    <tr>\n",
       "      <th>1</th>\n",
       "      <td>89.0</td>\n",
       "      <td>132.0</td>\n",
       "      <td>54.0</td>\n",
       "    </tr>\n",
       "    <tr>\n",
       "      <th>2</th>\n",
       "      <td>25.0</td>\n",
       "      <td>0.0</td>\n",
       "      <td>14.0</td>\n",
       "    </tr>\n",
       "    <tr>\n",
       "      <th>3</th>\n",
       "      <td>245.0</td>\n",
       "      <td>138.0</td>\n",
       "      <td>312.0</td>\n",
       "    </tr>\n",
       "    <tr>\n",
       "      <th>4</th>\n",
       "      <td>217.0</td>\n",
       "      <td>57.0</td>\n",
       "      <td>45.0</td>\n",
       "    </tr>\n",
       "  </tbody>\n",
       "</table>\n",
       "</div>"
      ],
      "text/plain": [
       "   beer_servings  spirit_servings  wine_servings\n",
       "0            0.0              0.0            0.0\n",
       "1           89.0            132.0           54.0\n",
       "2           25.0              0.0           14.0\n",
       "3          245.0            138.0          312.0\n",
       "4          217.0             57.0           45.0"
      ]
     },
     "execution_count": 25,
     "metadata": {},
     "output_type": "execute_result"
    }
   ],
   "source": [
    "# change the integers to floats\n",
    "\n",
    "drinks_new = drinks.loc[:, 'beer_servings':'wine_servings'].applymap(float)\n",
    "\n",
    "# view the changes in new DataFrame\n",
    "drinks_new.head()"
   ]
  },
  {
   "cell_type": "code",
   "execution_count": 27,
   "id": "7b173640",
   "metadata": {},
   "outputs": [
    {
     "name": "stdout",
     "output_type": "stream",
     "text": [
      "<bound method DataFrame.info of      beer_servings  spirit_servings  wine_servings\n",
      "0              0.0              0.0            0.0\n",
      "1             89.0            132.0           54.0\n",
      "2             25.0              0.0           14.0\n",
      "3            245.0            138.0          312.0\n",
      "4            217.0             57.0           45.0\n",
      "..             ...              ...            ...\n",
      "188          333.0            100.0            3.0\n",
      "189          111.0              2.0            1.0\n",
      "190            6.0              0.0            0.0\n",
      "191           32.0             19.0            4.0\n",
      "192           64.0             18.0            4.0\n",
      "\n",
      "[193 rows x 3 columns]>\n"
     ]
    }
   ],
   "source": [
    "print(drinks_new.info)"
   ]
  },
  {
   "cell_type": "markdown",
   "id": "a4065492",
   "metadata": {},
   "source": [
    "# Case study\n",
    "\n",
    "Mr Zachariou from the All-You-Need case study, wants you to determine the total number of characters the StockCodes and Descriptions columns have. Let's see how the applymap() function can help to answer the question."
   ]
  },
  {
   "cell_type": "code",
   "execution_count": 29,
   "id": "f2688c25",
   "metadata": {},
   "outputs": [
    {
     "name": "stdout",
     "output_type": "stream",
     "text": [
      "(3945, 2)\n"
     ]
    }
   ],
   "source": [
    "# Read the CSV file from the current working directory.\n",
    "products = pd.read_csv('products.csv')\n",
    "\n",
    "# View the DataFrame.\n",
    "print(products.shape)"
   ]
  },
  {
   "cell_type": "code",
   "execution_count": 32,
   "id": "cc28d6e0",
   "metadata": {},
   "outputs": [
    {
     "data": {
      "text/html": [
       "<div>\n",
       "<style scoped>\n",
       "    .dataframe tbody tr th:only-of-type {\n",
       "        vertical-align: middle;\n",
       "    }\n",
       "\n",
       "    .dataframe tbody tr th {\n",
       "        vertical-align: top;\n",
       "    }\n",
       "\n",
       "    .dataframe thead th {\n",
       "        text-align: right;\n",
       "    }\n",
       "</style>\n",
       "<table border=\"1\" class=\"dataframe\">\n",
       "  <thead>\n",
       "    <tr style=\"text-align: right;\">\n",
       "      <th></th>\n",
       "      <th>LenStockCode</th>\n",
       "      <th>LenDescription</th>\n",
       "    </tr>\n",
       "  </thead>\n",
       "  <tbody>\n",
       "    <tr>\n",
       "      <th>0</th>\n",
       "      <td>5</td>\n",
       "      <td>26</td>\n",
       "    </tr>\n",
       "    <tr>\n",
       "      <th>1</th>\n",
       "      <td>5</td>\n",
       "      <td>24</td>\n",
       "    </tr>\n",
       "    <tr>\n",
       "      <th>2</th>\n",
       "      <td>5</td>\n",
       "      <td>12</td>\n",
       "    </tr>\n",
       "    <tr>\n",
       "      <th>3</th>\n",
       "      <td>6</td>\n",
       "      <td>20</td>\n",
       "    </tr>\n",
       "    <tr>\n",
       "      <th>4</th>\n",
       "      <td>6</td>\n",
       "      <td>27</td>\n",
       "    </tr>\n",
       "  </tbody>\n",
       "</table>\n",
       "</div>"
      ],
      "text/plain": [
       "   LenStockCode  LenDescription\n",
       "0             5              26\n",
       "1             5              24\n",
       "2             5              12\n",
       "3             6              20\n",
       "4             6              27"
      ]
     },
     "execution_count": 32,
     "metadata": {},
     "output_type": "execute_result"
    }
   ],
   "source": [
    "# Determine the number of characters.\n",
    "number_of_chars = products.applymap(len)\\\n",
    ".rename(columns={'StockCode': 'LenStockCode', 'Description': 'LenDescription'})\n",
    "\n",
    "# View the output.\n",
    "number_of_chars.head()"
   ]
  },
  {
   "cell_type": "code",
   "execution_count": 33,
   "id": "574d018f",
   "metadata": {},
   "outputs": [
    {
     "data": {
      "text/html": [
       "<div>\n",
       "<style scoped>\n",
       "    .dataframe tbody tr th:only-of-type {\n",
       "        vertical-align: middle;\n",
       "    }\n",
       "\n",
       "    .dataframe tbody tr th {\n",
       "        vertical-align: top;\n",
       "    }\n",
       "\n",
       "    .dataframe thead th {\n",
       "        text-align: right;\n",
       "    }\n",
       "</style>\n",
       "<table border=\"1\" class=\"dataframe\">\n",
       "  <thead>\n",
       "    <tr style=\"text-align: right;\">\n",
       "      <th></th>\n",
       "      <th>StockCode</th>\n",
       "      <th>Description</th>\n",
       "      <th>LenStockCode</th>\n",
       "      <th>LenDescription</th>\n",
       "    </tr>\n",
       "  </thead>\n",
       "  <tbody>\n",
       "    <tr>\n",
       "      <th>148</th>\n",
       "      <td>20681</td>\n",
       "      <td>MIA</td>\n",
       "      <td>5</td>\n",
       "      <td>3</td>\n",
       "    </tr>\n",
       "    <tr>\n",
       "      <th>1609</th>\n",
       "      <td>22734</td>\n",
       "      <td>FOUND</td>\n",
       "      <td>5</td>\n",
       "      <td>5</td>\n",
       "    </tr>\n",
       "    <tr>\n",
       "      <th>3944</th>\n",
       "      <td>m</td>\n",
       "      <td>Manual</td>\n",
       "      <td>1</td>\n",
       "      <td>6</td>\n",
       "    </tr>\n",
       "    <tr>\n",
       "      <th>3935</th>\n",
       "      <td>M</td>\n",
       "      <td>Manual</td>\n",
       "      <td>1</td>\n",
       "      <td>6</td>\n",
       "    </tr>\n",
       "    <tr>\n",
       "      <th>3938</th>\n",
       "      <td>S</td>\n",
       "      <td>SAMPLES</td>\n",
       "      <td>1</td>\n",
       "      <td>7</td>\n",
       "    </tr>\n",
       "    <tr>\n",
       "      <th>...</th>\n",
       "      <td>...</td>\n",
       "      <td>...</td>\n",
       "      <td>...</td>\n",
       "      <td>...</td>\n",
       "    </tr>\n",
       "    <tr>\n",
       "      <th>3624</th>\n",
       "      <td>90038B</td>\n",
       "      <td>GLASS AND PAINTED BEADS BRACELET OL</td>\n",
       "      <td>6</td>\n",
       "      <td>35</td>\n",
       "    </tr>\n",
       "    <tr>\n",
       "      <th>3623</th>\n",
       "      <td>90038A</td>\n",
       "      <td>GLASS AND PAINTED BEADS BRACELET TO</td>\n",
       "      <td>6</td>\n",
       "      <td>35</td>\n",
       "    </tr>\n",
       "    <tr>\n",
       "      <th>3619</th>\n",
       "      <td>90036F</td>\n",
       "      <td>FLOWER GLASS GARLD NECKL36\"TURQUOIS</td>\n",
       "      <td>6</td>\n",
       "      <td>35</td>\n",
       "    </tr>\n",
       "    <tr>\n",
       "      <th>3617</th>\n",
       "      <td>90036D</td>\n",
       "      <td>FLOWER GLASS GARLAND NECKL.36\"BLACK</td>\n",
       "      <td>6</td>\n",
       "      <td>35</td>\n",
       "    </tr>\n",
       "    <tr>\n",
       "      <th>2101</th>\n",
       "      <td>23243</td>\n",
       "      <td>SET OF TEA COFFEE SUGAR TINS PANTRY</td>\n",
       "      <td>5</td>\n",
       "      <td>35</td>\n",
       "    </tr>\n",
       "  </tbody>\n",
       "</table>\n",
       "<p>3945 rows × 4 columns</p>\n",
       "</div>"
      ],
      "text/plain": [
       "     StockCode                          Description  LenStockCode  \\\n",
       "148      20681                                  MIA             5   \n",
       "1609     22734                                FOUND             5   \n",
       "3944         m                               Manual             1   \n",
       "3935         M                               Manual             1   \n",
       "3938         S                              SAMPLES             1   \n",
       "...        ...                                  ...           ...   \n",
       "3624    90038B  GLASS AND PAINTED BEADS BRACELET OL             6   \n",
       "3623    90038A  GLASS AND PAINTED BEADS BRACELET TO             6   \n",
       "3619    90036F  FLOWER GLASS GARLD NECKL36\"TURQUOIS             6   \n",
       "3617    90036D  FLOWER GLASS GARLAND NECKL.36\"BLACK             6   \n",
       "2101     23243  SET OF TEA COFFEE SUGAR TINS PANTRY             5   \n",
       "\n",
       "      LenDescription  \n",
       "148                3  \n",
       "1609               5  \n",
       "3944               6  \n",
       "3935               6  \n",
       "3938               7  \n",
       "...              ...  \n",
       "3624              35  \n",
       "3623              35  \n",
       "3619              35  \n",
       "3617              35  \n",
       "2101              35  \n",
       "\n",
       "[3945 rows x 4 columns]"
      ]
     },
     "execution_count": 33,
     "metadata": {},
     "output_type": "execute_result"
    }
   ],
   "source": [
    "# Alternative way to present the previous code snippet\n",
    "\n",
    "# Concatenate the columns, sort by the length of the product description.\n",
    "pd.concat([products, number_of_chars], axis=1).sort_values('LenDescription')\n"
   ]
  },
  {
   "cell_type": "markdown",
   "id": "f218c398",
   "metadata": {},
   "source": [
    "# 3.2.5 - Writing a user-defined function"
   ]
  },
  {
   "cell_type": "code",
   "execution_count": 36,
   "id": "1bb09c0c",
   "metadata": {},
   "outputs": [
    {
     "name": "stdout",
     "output_type": "stream",
     "text": [
      "Addition: 22\n",
      "Subtraction: 2\n",
      "Multiplication: 120\n",
      "Division: 1.2\n"
     ]
    }
   ],
   "source": [
    "def calculator(a,b):\n",
    "    print('Addition:', a+b)\n",
    "    print('Subtraction:', a-b,)\n",
    "    print('Multiplication:', a*b)\n",
    "    print('Division:', a/b)\n",
    "    return; \n",
    "\n",
    "# Using an example \n",
    "calculator(12,10)"
   ]
  },
  {
   "cell_type": "code",
   "execution_count": 37,
   "id": "bc985e57",
   "metadata": {},
   "outputs": [
    {
     "data": {
      "text/plain": [
       "16"
      ]
     },
     "execution_count": 37,
     "metadata": {},
     "output_type": "execute_result"
    }
   ],
   "source": [
    "# Further practive of user-defined functions\n",
    "\n",
    "# Write a user-defined function.\n",
    "def f(x):\n",
    "    y = (x * 2) + 10\n",
    "    return y\n",
    "\n",
    "# Stipulate what to calculate.\n",
    "f(x=3)"
   ]
  },
  {
   "cell_type": "markdown",
   "id": "530d05c8",
   "metadata": {},
   "source": [
    "# Apply your learning\n",
    "Let’s recap what you’ve learned in the video with a real-life example. To make it more interesting, we’ll incorporate the apply() and applymap() functions. In real-life scenarios, these two functions are used in conjunction with user-defined function(s). It allows you to deal with more complex tasks in data analysis such as string manipulation or recoding data to multiple levels.\n",
    "\n",
    "We will continue with the All-You-Need case study. Mr Zachariou already asked Arjun to perform more data wrangling. Mr Zachariou wants to know how many of the products in his store contain the word ‘glass’ in the description. He may be able to reapply for insurance with a lower premium if many of the items contain glass. Arjun decides to write a user-defined function and utilise the products.csv data set, available in the Data folder of the ZIP file you downloaded in 3.0 Focus of the module."
   ]
  },
  {
   "cell_type": "code",
   "execution_count": 38,
   "id": "06c2b914",
   "metadata": {},
   "outputs": [
    {
     "data": {
      "text/plain": [
       "(3945, 2)"
      ]
     },
     "execution_count": 38,
     "metadata": {},
     "output_type": "execute_result"
    }
   ],
   "source": [
    "# Import Pandas.\n",
    "import pandas as pd\n",
    "\n",
    "# Read the CSV file from the current working directory.\n",
    "products = pd.read_csv('products.csv')\n",
    "\n",
    "# View the DataFrame.\n",
    "products.shape"
   ]
  },
  {
   "cell_type": "markdown",
   "id": "b17dfd3e",
   "metadata": {},
   "source": [
    "# Which products contain the word ‘glass’ in the description?"
   ]
  },
  {
   "cell_type": "code",
   "execution_count": 39,
   "id": "cb41e84b",
   "metadata": {},
   "outputs": [
    {
     "name": "stdout",
     "output_type": "stream",
     "text": [
      "True\n",
      "True\n",
      "False\n"
     ]
    }
   ],
   "source": [
    "# Create a user-defined function.\n",
    "def contains_glass(x):\n",
    "    \"\"\" does the product contain glass? \"\"\"\n",
    "    y = x.lower()\n",
    "    return \"glass\" in y\n",
    "\n",
    "# View the output.\n",
    "print(contains_glass(x=\"Glass bottle\"))\n",
    "print(contains_glass(x=\"glass bottle\"))\n",
    "print(contains_glass(x=\"bottle\"))"
   ]
  },
  {
   "cell_type": "markdown",
   "id": "6389783f",
   "metadata": {},
   "source": [
    "# Explanation and context \n",
    "\n",
    "The first two print() functions do contain the word glass. Your user-defined function is working.\n",
    "\n",
    "Let’s test your user-defined function on the whole Description column. Because we're only using the Description column, Python will consider it a Pandas Series. This is important because it has an impact on your code snippet. Follow these prompts:\n",
    "\n",
    "Create a new Series to display the output as fc.\n",
    "Specify the column name to be used as the Series (products[\"Description\"]).\n",
    "Add the apply() function and specify the function_name of the user-defined function (contains_glass). This will ensure that your user-defined function is now applied to the Series you specified.\n",
    "View the Series.\n",
    "Filter the result to only indicate the number of rows containing the word glass.\n",
    "Specify the Series you want to apply the filter on (products[fc])."
   ]
  },
  {
   "cell_type": "code",
   "execution_count": 42,
   "id": "f0946cf3",
   "metadata": {},
   "outputs": [
    {
     "name": "stdout",
     "output_type": "stream",
     "text": [
      "0       False\n",
      "1       False\n",
      "2       False\n",
      "3       False\n",
      "4       False\n",
      "        ...  \n",
      "3940    False\n",
      "3941    False\n",
      "3942    False\n",
      "3943    False\n",
      "3944    False\n",
      "Name: Description, Length: 3945, dtype: bool\n"
     ]
    },
    {
     "data": {
      "text/html": [
       "<div>\n",
       "<style scoped>\n",
       "    .dataframe tbody tr th:only-of-type {\n",
       "        vertical-align: middle;\n",
       "    }\n",
       "\n",
       "    .dataframe tbody tr th {\n",
       "        vertical-align: top;\n",
       "    }\n",
       "\n",
       "    .dataframe thead th {\n",
       "        text-align: right;\n",
       "    }\n",
       "</style>\n",
       "<table border=\"1\" class=\"dataframe\">\n",
       "  <thead>\n",
       "    <tr style=\"text-align: right;\">\n",
       "      <th></th>\n",
       "      <th>StockCode</th>\n",
       "      <th>Description</th>\n",
       "    </tr>\n",
       "  </thead>\n",
       "  <tbody>\n",
       "    <tr>\n",
       "      <th>106</th>\n",
       "      <td>17129F</td>\n",
       "      <td>BLUE GLASS GEMS IN BAG</td>\n",
       "    </tr>\n",
       "    <tr>\n",
       "      <th>220</th>\n",
       "      <td>20798</td>\n",
       "      <td>CLEAR MILKSHAKE GLASS</td>\n",
       "    </tr>\n",
       "    <tr>\n",
       "      <th>221</th>\n",
       "      <td>20801</td>\n",
       "      <td>LARGE PINK GLASS SUNDAE DISH</td>\n",
       "    </tr>\n",
       "    <tr>\n",
       "      <th>222</th>\n",
       "      <td>20802</td>\n",
       "      <td>SMALL GLASS SUNDAE DISH CLEAR</td>\n",
       "    </tr>\n",
       "    <tr>\n",
       "      <th>223</th>\n",
       "      <td>20803</td>\n",
       "      <td>SMALL PINK GLASS SUNDAE DISH</td>\n",
       "    </tr>\n",
       "    <tr>\n",
       "      <th>...</th>\n",
       "      <td>...</td>\n",
       "      <td>...</td>\n",
       "    </tr>\n",
       "    <tr>\n",
       "      <th>3866</th>\n",
       "      <td>90199D</td>\n",
       "      <td>5 STRAND GLASS NECKLACE AMBER</td>\n",
       "    </tr>\n",
       "    <tr>\n",
       "      <th>3886</th>\n",
       "      <td>90209A</td>\n",
       "      <td>PURPLE ENAMEL+GLASS HAIR COMB</td>\n",
       "    </tr>\n",
       "    <tr>\n",
       "      <th>3887</th>\n",
       "      <td>90209B</td>\n",
       "      <td>GREEN ENAMEL+GLASS HAIR COMB</td>\n",
       "    </tr>\n",
       "    <tr>\n",
       "      <th>3888</th>\n",
       "      <td>90209C</td>\n",
       "      <td>PINK ENAMEL+GLASS HAIR COMB</td>\n",
       "    </tr>\n",
       "    <tr>\n",
       "      <th>3927</th>\n",
       "      <td>DCGS0003</td>\n",
       "      <td>BOXED GLASS ASHTRAY</td>\n",
       "    </tr>\n",
       "  </tbody>\n",
       "</table>\n",
       "<p>171 rows × 2 columns</p>\n",
       "</div>"
      ],
      "text/plain": [
       "     StockCode                    Description\n",
       "106     17129F         BLUE GLASS GEMS IN BAG\n",
       "220      20798          CLEAR MILKSHAKE GLASS\n",
       "221      20801   LARGE PINK GLASS SUNDAE DISH\n",
       "222      20802  SMALL GLASS SUNDAE DISH CLEAR\n",
       "223      20803   SMALL PINK GLASS SUNDAE DISH\n",
       "...        ...                            ...\n",
       "3866    90199D  5 STRAND GLASS NECKLACE AMBER\n",
       "3886    90209A  PURPLE ENAMEL+GLASS HAIR COMB\n",
       "3887    90209B   GREEN ENAMEL+GLASS HAIR COMB\n",
       "3888    90209C    PINK ENAMEL+GLASS HAIR COMB\n",
       "3927  DCGS0003            BOXED GLASS ASHTRAY\n",
       "\n",
       "[171 rows x 2 columns]"
      ]
     },
     "execution_count": 42,
     "metadata": {},
     "output_type": "execute_result"
    }
   ],
   "source": [
    "# Use the apply() function. \n",
    "\n",
    "fc = products['Description'].apply(contains_glass)\n",
    "\n",
    "# view the DataFrame\n",
    "print(fc)\n",
    "\n",
    "products[fc]"
   ]
  },
  {
   "cell_type": "markdown",
   "id": "a8f02883",
   "metadata": {},
   "source": [
    "# 3.2.7 - lambda functions\n",
    "\n"
   ]
  },
  {
   "cell_type": "code",
   "execution_count": 47,
   "id": "bb8e8816",
   "metadata": {},
   "outputs": [
    {
     "data": {
      "text/plain": [
       "20"
      ]
     },
     "execution_count": 47,
     "metadata": {},
     "output_type": "execute_result"
    }
   ],
   "source": [
    "# Basic lambda example\n",
    "\n",
    "example = lambda x: x*2\n",
    "example(10)"
   ]
  },
  {
   "cell_type": "code",
   "execution_count": 48,
   "id": "e39f2bd5",
   "metadata": {},
   "outputs": [
    {
     "data": {
      "text/plain": [
       "5"
      ]
     },
     "execution_count": 48,
     "metadata": {},
     "output_type": "execute_result"
    }
   ],
   "source": [
    "# Basic lambda example: multiple arguments.\n",
    "example_2 = lambda x, y, z: x * 2 + y - z\n",
    "\n",
    "example_2(5, 10, 15)"
   ]
  },
  {
   "cell_type": "code",
   "execution_count": 49,
   "id": "fd34689d",
   "metadata": {},
   "outputs": [
    {
     "data": {
      "text/plain": [
       "[10, 8, 7, 11]"
      ]
     },
     "execution_count": 49,
     "metadata": {},
     "output_type": "execute_result"
    }
   ],
   "source": [
    "# lambda function and filter functions \n",
    "\n",
    "# Create a list.\n",
    "sequence = [10, 2, 8, 7, 5, 4, 3, 11, 0, 1]\n",
    "\n",
    "# Lambda and filter function.\n",
    "filter_answer = filter (lambda x: x > 6, sequence) \n",
    "\n",
    "list(filter_answer)"
   ]
  },
  {
   "cell_type": "code",
   "execution_count": 50,
   "id": "041f2a9b",
   "metadata": {},
   "outputs": [
    {
     "data": {
      "text/plain": [
       "[100, 4, 64, 49, 25, 16, 121]"
      ]
     },
     "execution_count": 50,
     "metadata": {},
     "output_type": "execute_result"
    }
   ],
   "source": [
    "# lambda() function and map() functions \n",
    "\n",
    "# Create a list.\n",
    "sequence_2 = [10, 2, 8, 7, 5, 4, 11]\n",
    "\n",
    "# Lambda and map function.\n",
    "squared_result = map (lambda x: x*x, sequence_2)\n",
    "\n",
    "list(squared_result)"
   ]
  },
  {
   "cell_type": "code",
   "execution_count": 52,
   "id": "7fe0b70c",
   "metadata": {},
   "outputs": [
    {
     "data": {
      "text/plain": [
       "'Vincent Van Gogh'"
      ]
     },
     "execution_count": 52,
     "metadata": {},
     "output_type": "execute_result"
    }
   ],
   "source": [
    "# lambda function: combine values\n",
    "\n",
    "\"\"\"You can use the lambda function to perform data wrangling while combining the first and last names. \n",
    "The code snippet can be written as:\n",
    "\n",
    "#Name the lambda function (optional part of code snippet), for example, full_name.\n",
    "#Specify the lambda parameters as first name and last name (fn, ln). \n",
    "(Hint: You can employ placeholders that make contextual sense, but are flexible.)\n",
    "\n",
    "#Specify the expression as:\n",
    "take the first name (fn), remove any spaces with the strip() function, \n",
    "and use the title case by employing the title() function. For example fn.strip().title().\n",
    "take the last name ln(), remove any spaces with the strip() function, and use the title \n",
    "case by employing the title() function. For example ln.strip().title().\n",
    "\n",
    "#Instruct Python to execute the function by specifying the arguments fn, ln equal to (\"    vincent\", \"  van gogh\"). \n",
    "#Add a few spaces to make it more challenging.\"\"\"\n",
    "\n",
    "# Combine two values into one with lambda.\n",
    "full_name = lambda fn, ln: fn.strip().title() + \" \" + ln.strip().title()\n",
    "\n",
    "full_name(\"    vincent\", \"  van gogh\")"
   ]
  },
  {
   "cell_type": "code",
   "execution_count": null,
   "id": "9703efbf",
   "metadata": {},
   "outputs": [],
   "source": []
  }
 ],
 "metadata": {
  "kernelspec": {
   "display_name": "Python 3 (ipykernel)",
   "language": "python",
   "name": "python3"
  },
  "language_info": {
   "codemirror_mode": {
    "name": "ipython",
    "version": 3
   },
   "file_extension": ".py",
   "mimetype": "text/x-python",
   "name": "python",
   "nbconvert_exporter": "python",
   "pygments_lexer": "ipython3",
   "version": "3.10.9"
  }
 },
 "nbformat": 4,
 "nbformat_minor": 5
}

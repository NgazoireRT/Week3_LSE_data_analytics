{
 "cells": [
  {
   "cell_type": "markdown",
   "id": "17674089",
   "metadata": {},
   "source": [
    "# Scenario\n",
    "Mandisa Nkosi is actively pursuing a career in data analysis. She has established a relationship with a political party that needs to decide how best to invest its available advertising budget. Mandisa thinks she can explore potential advertising avenues by analysing films that are available on streaming platforms. She will use the movies_merge.xlsx and ott_merge.csv data sets that were included in the Data folder of the ZIP file you downloaded from 3.0 Focus of the module. \n",
    "\n",
    "The insights gained from the analysis will inform the campaign, promotional materials, slogans, and language the political party will use to reach potential voters. You’ll return to this analysis throughout the module. \n",
    "\n",
    "# Objective\n",
    "Use data analysis of streaming platform films to guide a political party's advertising strategy. Insights drawn from the data sets will influence the campaign's promotional materials, slogans, and language, ensuring they effectively engage potential voters. "
   ]
  },
  {
   "cell_type": "code",
   "execution_count": 1,
   "id": "b1121e4b",
   "metadata": {},
   "outputs": [],
   "source": [
    "# Import libraries\n",
    "\n",
    "import pandas as pd\n",
    "import numpy as np"
   ]
  },
  {
   "cell_type": "markdown",
   "id": "71c5d121",
   "metadata": {},
   "source": [
    "# Import excel file "
   ]
  },
  {
   "cell_type": "code",
   "execution_count": 12,
   "id": "716635d0",
   "metadata": {},
   "outputs": [
    {
     "name": "stdout",
     "output_type": "stream",
     "text": [
      "Index(['ID', 'Title', 'Year', 'Age', 'IMDb', 'Rotten Tomatoes', 'Directors',\n",
      "       'Genres', 'Country', 'Language', 'Runtime'],\n",
      "      dtype='object')\n"
     ]
    }
   ],
   "source": [
    "# read the Excel data \n",
    "movies = pd.read_excel('movies_merge.xlsx')\n",
    "\n",
    "# View the column names.\n",
    "print(movies.columns)"
   ]
  },
  {
   "cell_type": "markdown",
   "id": "23ba89b1",
   "metadata": {},
   "source": [
    "# Import csv file"
   ]
  },
  {
   "cell_type": "code",
   "execution_count": 13,
   "id": "357118f1",
   "metadata": {},
   "outputs": [
    {
     "name": "stdout",
     "output_type": "stream",
     "text": [
      "Index(['ID', 'Netflix', 'Hulu', 'Prime Video', 'Disney+'], dtype='object')\n"
     ]
    }
   ],
   "source": [
    "# read the csv file \n",
    "\n",
    "ott = pd.read_csv('ott_merge.csv')\n",
    "\n",
    "# view the column names\n",
    "\n",
    "print(ott.columns)"
   ]
  },
  {
   "cell_type": "markdown",
   "id": "7f1a7fbe",
   "metadata": {},
   "source": [
    "# Validate and describe the Data"
   ]
  },
  {
   "cell_type": "code",
   "execution_count": 20,
   "id": "015324e9",
   "metadata": {},
   "outputs": [
    {
     "name": "stdout",
     "output_type": "stream",
     "text": [
      "(16744, 11)\n"
     ]
    }
   ],
   "source": [
    "# Using shape and head functions.\n",
    "\n",
    "#Validate movies \n",
    "\n",
    "movies.head()\n",
    "print(movies.shape)"
   ]
  },
  {
   "cell_type": "code",
   "execution_count": 23,
   "id": "c10af4b6",
   "metadata": {},
   "outputs": [
    {
     "name": "stdout",
     "output_type": "stream",
     "text": [
      "(16744, 5)\n"
     ]
    }
   ],
   "source": [
    "# Validate ott\n",
    "\n",
    "ott.head()\n",
    "print(ott.shape)"
   ]
  },
  {
   "cell_type": "code",
   "execution_count": 21,
   "id": "088002fd",
   "metadata": {},
   "outputs": [
    {
     "name": "stdout",
     "output_type": "stream",
     "text": [
      "ID                   int64\n",
      "Title               object\n",
      "Year                 int64\n",
      "Age                 object\n",
      "IMDb               float64\n",
      "Rotten Tomatoes    float64\n",
      "Directors           object\n",
      "Genres              object\n",
      "Country             object\n",
      "Language            object\n",
      "Runtime            float64\n",
      "dtype: object\n"
     ]
    }
   ],
   "source": [
    "# Describe the Data - movies\n",
    "\n",
    "print(movies.dtypes)"
   ]
  },
  {
   "cell_type": "code",
   "execution_count": 24,
   "id": "11ac186d",
   "metadata": {},
   "outputs": [
    {
     "name": "stdout",
     "output_type": "stream",
     "text": [
      "ID             int64\n",
      "Netflix        int64\n",
      "Hulu           int64\n",
      "Prime Video    int64\n",
      "Disney+        int64\n",
      "dtype: object\n"
     ]
    }
   ],
   "source": [
    "# Describe the Data - ott\n",
    "\n",
    "print(ott.dtypes)"
   ]
  },
  {
   "cell_type": "markdown",
   "id": "3b8a6f3d",
   "metadata": {},
   "source": [
    "# Combine the two DataFrames"
   ]
  },
  {
   "cell_type": "code",
   "execution_count": 25,
   "id": "2bfbaef6",
   "metadata": {},
   "outputs": [
    {
     "name": "stdout",
     "output_type": "stream",
     "text": [
      "(33488, 15)\n"
     ]
    },
    {
     "data": {
      "text/html": [
       "<div>\n",
       "<style scoped>\n",
       "    .dataframe tbody tr th:only-of-type {\n",
       "        vertical-align: middle;\n",
       "    }\n",
       "\n",
       "    .dataframe tbody tr th {\n",
       "        vertical-align: top;\n",
       "    }\n",
       "\n",
       "    .dataframe thead th {\n",
       "        text-align: right;\n",
       "    }\n",
       "</style>\n",
       "<table border=\"1\" class=\"dataframe\">\n",
       "  <thead>\n",
       "    <tr style=\"text-align: right;\">\n",
       "      <th></th>\n",
       "      <th>ID</th>\n",
       "      <th>Title</th>\n",
       "      <th>Year</th>\n",
       "      <th>Age</th>\n",
       "      <th>IMDb</th>\n",
       "      <th>Rotten Tomatoes</th>\n",
       "      <th>Directors</th>\n",
       "      <th>Genres</th>\n",
       "      <th>Country</th>\n",
       "      <th>Language</th>\n",
       "      <th>Runtime</th>\n",
       "      <th>Netflix</th>\n",
       "      <th>Hulu</th>\n",
       "      <th>Prime Video</th>\n",
       "      <th>Disney+</th>\n",
       "    </tr>\n",
       "  </thead>\n",
       "  <tbody>\n",
       "    <tr>\n",
       "      <th>0</th>\n",
       "      <td>1</td>\n",
       "      <td>Inception</td>\n",
       "      <td>2010.0</td>\n",
       "      <td>13+</td>\n",
       "      <td>8.8</td>\n",
       "      <td>0.87</td>\n",
       "      <td>Christopher Nolan</td>\n",
       "      <td>Action,Adventure,Sci-Fi,Thriller</td>\n",
       "      <td>United States,United Kingdom</td>\n",
       "      <td>English,Japanese,French</td>\n",
       "      <td>148.0</td>\n",
       "      <td>NaN</td>\n",
       "      <td>NaN</td>\n",
       "      <td>NaN</td>\n",
       "      <td>NaN</td>\n",
       "    </tr>\n",
       "    <tr>\n",
       "      <th>1</th>\n",
       "      <td>2</td>\n",
       "      <td>The Matrix</td>\n",
       "      <td>1999.0</td>\n",
       "      <td>18+</td>\n",
       "      <td>8.7</td>\n",
       "      <td>0.87</td>\n",
       "      <td>Lana Wachowski,Lilly Wachowski</td>\n",
       "      <td>Action,Sci-Fi</td>\n",
       "      <td>United States</td>\n",
       "      <td>English</td>\n",
       "      <td>136.0</td>\n",
       "      <td>NaN</td>\n",
       "      <td>NaN</td>\n",
       "      <td>NaN</td>\n",
       "      <td>NaN</td>\n",
       "    </tr>\n",
       "    <tr>\n",
       "      <th>2</th>\n",
       "      <td>3</td>\n",
       "      <td>Avengers: Infinity War</td>\n",
       "      <td>2018.0</td>\n",
       "      <td>13+</td>\n",
       "      <td>8.5</td>\n",
       "      <td>0.84</td>\n",
       "      <td>Anthony Russo,Joe Russo</td>\n",
       "      <td>Action,Adventure,Sci-Fi</td>\n",
       "      <td>United States</td>\n",
       "      <td>English</td>\n",
       "      <td>149.0</td>\n",
       "      <td>NaN</td>\n",
       "      <td>NaN</td>\n",
       "      <td>NaN</td>\n",
       "      <td>NaN</td>\n",
       "    </tr>\n",
       "    <tr>\n",
       "      <th>3</th>\n",
       "      <td>4</td>\n",
       "      <td>Back to the Future</td>\n",
       "      <td>1985.0</td>\n",
       "      <td>7+</td>\n",
       "      <td>8.5</td>\n",
       "      <td>0.96</td>\n",
       "      <td>Robert Zemeckis</td>\n",
       "      <td>Adventure,Comedy,Sci-Fi</td>\n",
       "      <td>United States</td>\n",
       "      <td>English</td>\n",
       "      <td>116.0</td>\n",
       "      <td>NaN</td>\n",
       "      <td>NaN</td>\n",
       "      <td>NaN</td>\n",
       "      <td>NaN</td>\n",
       "    </tr>\n",
       "    <tr>\n",
       "      <th>4</th>\n",
       "      <td>5</td>\n",
       "      <td>The Good, the Bad and the Ugly</td>\n",
       "      <td>1966.0</td>\n",
       "      <td>18+</td>\n",
       "      <td>8.8</td>\n",
       "      <td>0.97</td>\n",
       "      <td>Sergio Leone</td>\n",
       "      <td>Western</td>\n",
       "      <td>Italy,Spain,West Germany</td>\n",
       "      <td>Italian</td>\n",
       "      <td>161.0</td>\n",
       "      <td>NaN</td>\n",
       "      <td>NaN</td>\n",
       "      <td>NaN</td>\n",
       "      <td>NaN</td>\n",
       "    </tr>\n",
       "  </tbody>\n",
       "</table>\n",
       "</div>"
      ],
      "text/plain": [
       "   ID                           Title    Year  Age  IMDb  Rotten Tomatoes  \\\n",
       "0   1                       Inception  2010.0  13+   8.8             0.87   \n",
       "1   2                      The Matrix  1999.0  18+   8.7             0.87   \n",
       "2   3          Avengers: Infinity War  2018.0  13+   8.5             0.84   \n",
       "3   4              Back to the Future  1985.0   7+   8.5             0.96   \n",
       "4   5  The Good, the Bad and the Ugly  1966.0  18+   8.8             0.97   \n",
       "\n",
       "                        Directors                            Genres  \\\n",
       "0               Christopher Nolan  Action,Adventure,Sci-Fi,Thriller   \n",
       "1  Lana Wachowski,Lilly Wachowski                     Action,Sci-Fi   \n",
       "2         Anthony Russo,Joe Russo           Action,Adventure,Sci-Fi   \n",
       "3                 Robert Zemeckis           Adventure,Comedy,Sci-Fi   \n",
       "4                    Sergio Leone                           Western   \n",
       "\n",
       "                        Country                 Language  Runtime  Netflix  \\\n",
       "0  United States,United Kingdom  English,Japanese,French    148.0      NaN   \n",
       "1                 United States                  English    136.0      NaN   \n",
       "2                 United States                  English    149.0      NaN   \n",
       "3                 United States                  English    116.0      NaN   \n",
       "4      Italy,Spain,West Germany                  Italian    161.0      NaN   \n",
       "\n",
       "   Hulu  Prime Video  Disney+  \n",
       "0   NaN          NaN      NaN  \n",
       "1   NaN          NaN      NaN  \n",
       "2   NaN          NaN      NaN  \n",
       "3   NaN          NaN      NaN  \n",
       "4   NaN          NaN      NaN  "
      ]
     },
     "execution_count": 25,
     "metadata": {},
     "output_type": "execute_result"
    }
   ],
   "source": [
    "# Using Concat() function \n",
    "\n",
    "# Concatenate the two DataFrames.\n",
    "mov_ott_concat = pd.concat([movies, ott], axis=0)\n",
    "\n",
    "# View the new DataFrame.\n",
    "print(mov_ott_concat.shape)\n",
    "mov_ott_concat.head()"
   ]
  },
  {
   "cell_type": "code",
   "execution_count": 27,
   "id": "def5313e",
   "metadata": {},
   "outputs": [
    {
     "name": "stdout",
     "output_type": "stream",
     "text": [
      "(16744, 15)\n"
     ]
    },
    {
     "data": {
      "text/html": [
       "<div>\n",
       "<style scoped>\n",
       "    .dataframe tbody tr th:only-of-type {\n",
       "        vertical-align: middle;\n",
       "    }\n",
       "\n",
       "    .dataframe tbody tr th {\n",
       "        vertical-align: top;\n",
       "    }\n",
       "\n",
       "    .dataframe thead th {\n",
       "        text-align: right;\n",
       "    }\n",
       "</style>\n",
       "<table border=\"1\" class=\"dataframe\">\n",
       "  <thead>\n",
       "    <tr style=\"text-align: right;\">\n",
       "      <th></th>\n",
       "      <th>ID</th>\n",
       "      <th>Title</th>\n",
       "      <th>Year</th>\n",
       "      <th>Age</th>\n",
       "      <th>IMDb</th>\n",
       "      <th>Rotten Tomatoes</th>\n",
       "      <th>Directors</th>\n",
       "      <th>Genres</th>\n",
       "      <th>Country</th>\n",
       "      <th>Language</th>\n",
       "      <th>Runtime</th>\n",
       "      <th>Netflix</th>\n",
       "      <th>Hulu</th>\n",
       "      <th>Prime Video</th>\n",
       "      <th>Disney+</th>\n",
       "    </tr>\n",
       "  </thead>\n",
       "  <tbody>\n",
       "    <tr>\n",
       "      <th>0</th>\n",
       "      <td>1</td>\n",
       "      <td>Inception</td>\n",
       "      <td>2010</td>\n",
       "      <td>13+</td>\n",
       "      <td>8.8</td>\n",
       "      <td>0.87</td>\n",
       "      <td>Christopher Nolan</td>\n",
       "      <td>Action,Adventure,Sci-Fi,Thriller</td>\n",
       "      <td>United States,United Kingdom</td>\n",
       "      <td>English,Japanese,French</td>\n",
       "      <td>148.0</td>\n",
       "      <td>0</td>\n",
       "      <td>0</td>\n",
       "      <td>1</td>\n",
       "      <td>0</td>\n",
       "    </tr>\n",
       "    <tr>\n",
       "      <th>1</th>\n",
       "      <td>2</td>\n",
       "      <td>The Matrix</td>\n",
       "      <td>1999</td>\n",
       "      <td>18+</td>\n",
       "      <td>8.7</td>\n",
       "      <td>0.87</td>\n",
       "      <td>Lana Wachowski,Lilly Wachowski</td>\n",
       "      <td>Action,Sci-Fi</td>\n",
       "      <td>United States</td>\n",
       "      <td>English</td>\n",
       "      <td>136.0</td>\n",
       "      <td>0</td>\n",
       "      <td>1</td>\n",
       "      <td>0</td>\n",
       "      <td>0</td>\n",
       "    </tr>\n",
       "    <tr>\n",
       "      <th>2</th>\n",
       "      <td>3</td>\n",
       "      <td>Avengers: Infinity War</td>\n",
       "      <td>2018</td>\n",
       "      <td>13+</td>\n",
       "      <td>8.5</td>\n",
       "      <td>0.84</td>\n",
       "      <td>Anthony Russo,Joe Russo</td>\n",
       "      <td>Action,Adventure,Sci-Fi</td>\n",
       "      <td>United States</td>\n",
       "      <td>English</td>\n",
       "      <td>149.0</td>\n",
       "      <td>0</td>\n",
       "      <td>0</td>\n",
       "      <td>1</td>\n",
       "      <td>0</td>\n",
       "    </tr>\n",
       "    <tr>\n",
       "      <th>3</th>\n",
       "      <td>4</td>\n",
       "      <td>Back to the Future</td>\n",
       "      <td>1985</td>\n",
       "      <td>7+</td>\n",
       "      <td>8.5</td>\n",
       "      <td>0.96</td>\n",
       "      <td>Robert Zemeckis</td>\n",
       "      <td>Adventure,Comedy,Sci-Fi</td>\n",
       "      <td>United States</td>\n",
       "      <td>English</td>\n",
       "      <td>116.0</td>\n",
       "      <td>1</td>\n",
       "      <td>0</td>\n",
       "      <td>0</td>\n",
       "      <td>0</td>\n",
       "    </tr>\n",
       "    <tr>\n",
       "      <th>4</th>\n",
       "      <td>5</td>\n",
       "      <td>The Good, the Bad and the Ugly</td>\n",
       "      <td>1966</td>\n",
       "      <td>18+</td>\n",
       "      <td>8.8</td>\n",
       "      <td>0.97</td>\n",
       "      <td>Sergio Leone</td>\n",
       "      <td>Western</td>\n",
       "      <td>Italy,Spain,West Germany</td>\n",
       "      <td>Italian</td>\n",
       "      <td>161.0</td>\n",
       "      <td>0</td>\n",
       "      <td>0</td>\n",
       "      <td>1</td>\n",
       "      <td>0</td>\n",
       "    </tr>\n",
       "  </tbody>\n",
       "</table>\n",
       "</div>"
      ],
      "text/plain": [
       "   ID                           Title  Year  Age  IMDb  Rotten Tomatoes  \\\n",
       "0   1                       Inception  2010  13+   8.8             0.87   \n",
       "1   2                      The Matrix  1999  18+   8.7             0.87   \n",
       "2   3          Avengers: Infinity War  2018  13+   8.5             0.84   \n",
       "3   4              Back to the Future  1985   7+   8.5             0.96   \n",
       "4   5  The Good, the Bad and the Ugly  1966  18+   8.8             0.97   \n",
       "\n",
       "                        Directors                            Genres  \\\n",
       "0               Christopher Nolan  Action,Adventure,Sci-Fi,Thriller   \n",
       "1  Lana Wachowski,Lilly Wachowski                     Action,Sci-Fi   \n",
       "2         Anthony Russo,Joe Russo           Action,Adventure,Sci-Fi   \n",
       "3                 Robert Zemeckis           Adventure,Comedy,Sci-Fi   \n",
       "4                    Sergio Leone                           Western   \n",
       "\n",
       "                        Country                 Language  Runtime  Netflix  \\\n",
       "0  United States,United Kingdom  English,Japanese,French    148.0        0   \n",
       "1                 United States                  English    136.0        0   \n",
       "2                 United States                  English    149.0        0   \n",
       "3                 United States                  English    116.0        1   \n",
       "4      Italy,Spain,West Germany                  Italian    161.0        0   \n",
       "\n",
       "   Hulu  Prime Video  Disney+  \n",
       "0     0            1        0  \n",
       "1     1            0        0  \n",
       "2     0            1        0  \n",
       "3     0            0        0  \n",
       "4     0            1        0  "
      ]
     },
     "execution_count": 27,
     "metadata": {},
     "output_type": "execute_result"
    }
   ],
   "source": [
    "# Using merge() funcition\n",
    "\n",
    "# merge the two DataFrames\n",
    "\n",
    "mov_ott_merge = pd.merge(movies, ott)\n",
    "\n",
    "#view the new DataFrame\n",
    "print(mov_ott_merge.shape)\n",
    "mov_ott_merge.head()"
   ]
  },
  {
   "cell_type": "code",
   "execution_count": 28,
   "id": "dd50a5e7",
   "metadata": {},
   "outputs": [
    {
     "name": "stdout",
     "output_type": "stream",
     "text": [
      "Index(['ID', 'Title', 'Year', 'Age', 'IMDb', 'Rotten Tomatoes', 'Directors',\n",
      "       'Genres', 'Country', 'Language', 'Runtime', 'Netflix', 'Hulu',\n",
      "       'Prime Video', 'Disney+'],\n",
      "      dtype='object')\n"
     ]
    }
   ],
   "source": [
    "# Number of columns in new DataFrame. \n",
    "\n",
    "print(mov_ott_merge.columns)"
   ]
  },
  {
   "cell_type": "code",
   "execution_count": null,
   "id": "744c6a86",
   "metadata": {},
   "outputs": [],
   "source": []
  }
 ],
 "metadata": {
  "kernelspec": {
   "display_name": "Python 3 (ipykernel)",
   "language": "python",
   "name": "python3"
  },
  "language_info": {
   "codemirror_mode": {
    "name": "ipython",
    "version": 3
   },
   "file_extension": ".py",
   "mimetype": "text/x-python",
   "name": "python",
   "nbconvert_exporter": "python",
   "pygments_lexer": "ipython3",
   "version": "3.10.9"
  }
 },
 "nbformat": 4,
 "nbformat_minor": 5
}
